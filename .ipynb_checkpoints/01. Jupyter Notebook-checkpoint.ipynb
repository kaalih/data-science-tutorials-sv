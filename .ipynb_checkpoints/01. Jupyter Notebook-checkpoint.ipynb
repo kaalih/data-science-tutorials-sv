{
 "cells": [
  {
   "cell_type": "markdown",
   "metadata": {},
   "source": [
    "# Jupyter Notebook\n",
    "Jupyter (fd iPython) Notebook är en interaktiv programmeringsmiljö som fått ett oerhört stort genomslag senaste åren. Den största förtjänsten är att interfacet på ett väldigt intuitivt sätt stödjer en analytisk process samtidigt som den tillåter att man blandar beskrivande text, kod, resultat och visualiseringar."
   ]
  },
  {
   "cell_type": "markdown",
   "metadata": {},
   "source": [
    "Nedan är ett exempel på hur ett färdigt resultat kan se ut. Resultatet är överskådligt, välbeskrivet, reproducerbart kodmässigt och visualiserat.\n",
    "\n",
    "<img src=\"assets/images/nb_stats.png\" width=800 align=\"left\">"
   ]
  },
  {
   "cell_type": "markdown",
   "metadata": {},
   "source": [
    "### Hur en notebook är uppbyggd\n",
    "En Jupyter notebook består av en header och sedan ett antal celler som är det som utgör själva arbetsytan. En cell kan vara av typerna\n",
    "##### Markdown\n",
    "I en cell av typen markdown kan man skapa formatterad text med rubriker, punktlistor och grafiska element. \n",
    "##### Code\n",
    "I en kodcell skriver man den kod som man sedan kan exekvera med en output som resultat.\n",
    "##### Raw\n",
    "Dessa celler har ingen egentlig funktionalitet förutom att lagra ren text utan formattering."
   ]
  },
  {
   "cell_type": "markdown",
   "metadata": {},
   "source": [
    "### Exempel på Markdown"
   ]
  },
  {
   "cell_type": "markdown",
   "metadata": {},
   "source": [
    "In the sample of 100 runners, the standard error of the sample mean is equal to one-tenth of the population standard deviation: 1.60 = 16.05 / 10. In other words, the standard error of the sample mean based on 100 observations is equal to: \n",
    "$$ SE_\\bar{x} = \\sigma_\\bar{x} = \\frac{\\sigma_x}{\\sqrt{n}} = \\frac{15.93}{\\sqrt 100} = 1.59 $$\n",
    "\n",
    "where \u001b$ \\sigma_x $ is the standard deviation of the individual observations. This is no coincidence. "
   ]
  },
  {
   "cell_type": "markdown",
   "metadata": {},
   "source": [
    "### Exempel på Code\n",
    "Celler av den här typen tar en input i form av kod och genererar en output i form av ett resultat eller en grafisk viusalisering. Nyttan med att kunna dela upp potentiellt komplex kod till små byggstenar som går att debugga en i taget är vad som gör notebooks till ett svårslaget hjälpmedel för analytiskt arbete."
   ]
  },
  {
   "cell_type": "code",
   "execution_count": 5,
   "metadata": {
    "collapsed": false
   },
   "outputs": [
    {
     "data": {
      "text/html": [
       "<div>\n",
       "<table border=\"1\" class=\"dataframe\">\n",
       "  <thead>\n",
       "    <tr style=\"text-align: right;\">\n",
       "      <th></th>\n",
       "      <th>time</th>\n",
       "      <th>age</th>\n",
       "      <th>gender</th>\n",
       "      <th>state</th>\n",
       "    </tr>\n",
       "  </thead>\n",
       "  <tbody>\n",
       "    <tr>\n",
       "      <th>0</th>\n",
       "      <td>88.31</td>\n",
       "      <td>59</td>\n",
       "      <td>M</td>\n",
       "      <td>MD</td>\n",
       "    </tr>\n",
       "    <tr>\n",
       "      <th>1</th>\n",
       "      <td>100.67</td>\n",
       "      <td>32</td>\n",
       "      <td>M</td>\n",
       "      <td>VA</td>\n",
       "    </tr>\n",
       "    <tr>\n",
       "      <th>2</th>\n",
       "      <td>109.52</td>\n",
       "      <td>33</td>\n",
       "      <td>F</td>\n",
       "      <td>VA</td>\n",
       "    </tr>\n",
       "    <tr>\n",
       "      <th>3</th>\n",
       "      <td>87.11</td>\n",
       "      <td>52</td>\n",
       "      <td>M</td>\n",
       "      <td>PA</td>\n",
       "    </tr>\n",
       "    <tr>\n",
       "      <th>4</th>\n",
       "      <td>73.02</td>\n",
       "      <td>40</td>\n",
       "      <td>M</td>\n",
       "      <td>DC</td>\n",
       "    </tr>\n",
       "  </tbody>\n",
       "</table>\n",
       "</div>"
      ],
      "text/plain": [
       "     time  age gender state\n",
       "0   88.31   59      M    MD\n",
       "1  100.67   32      M    VA\n",
       "2  109.52   33      F    VA\n",
       "3   87.11   52      M    PA\n",
       "4   73.02   40      M    DC"
      ]
     },
     "execution_count": 5,
     "metadata": {},
     "output_type": "execute_result"
    }
   ],
   "source": [
    "# I en kodcell kan man skriva och exekvera kod, koden nedan läser in ett dataset till en dataframe och visar 5 rader\n",
    "\n",
    "import pandas as pd\n",
    "\n",
    "data = pd.read_csv('./assets/data/run10Samp.txt', sep='\\t')\n",
    "data.head()"
   ]
  },
  {
   "cell_type": "code",
   "execution_count": 6,
   "metadata": {
    "collapsed": false,
    "scrolled": false
   },
   "outputs": [
    {
     "name": "stderr",
     "output_type": "stream",
     "text": [
      "/home/kaalih/anaconda3/lib/python3.5/site-packages/statsmodels/nonparametric/kdetools.py:20: VisibleDeprecationWarning: using a non-integer number instead of an integer will result in an error in the future\n",
      "  y = X[:m/2+1] + np.r_[0,X[m/2+1:],0]*1j\n"
     ]
    },
    {
     "data": {
      "image/png": "[encoded data removed]",
      "text/plain": [
       "<matplotlib.figure.Figure at 0x7f190475f940>"
      ]
     },
     "metadata": {},
     "output_type": "display_data"
    }
   ],
   "source": [
    "# Den här kodraden visualiserar ett histogram över tidsobservationer från det dataset vi läste in i förra cellen.\n",
    "\n",
    "import seaborn as sns\n",
    "%matplotlib inline\n",
    "\n",
    "sns.distplot(data['time']);"
   ]
  },
  {
   "cell_type": "markdown",
   "metadata": {},
   "source": [
    "### Exempel på Raw"
   ]
  },
  {
   "cell_type": "raw",
   "metadata": {},
   "source": [
    "Detta är text av typen raw. Används sällan och finns enbart för väldigt specifika syften."
   ]
  },
  {
   "cell_type": "markdown",
   "metadata": {},
   "source": [
    "### Cellfunktionalitet\n",
    "Det effektivaste sättet att navigera mellan celler är med piltangeterna upp och ned. Det går även att klicka på cellerna med muspekaren. En cell kan vara aktiv i två olika lägen, den kan vara vald vilket syns genom en blå markering till vänster.\n",
    "\n",
    "<img src=\"assets/images/markerad_cell.png\" width=\"1000\" align=\"left\">\n",
    "\n",
    "\n",
    "I detta läget tar cellen ingen input, istället kan man infoga celler före och efter den aktuella cellen genom snabbkommandon på tangentbordet. `<A>` för att infoga en cell ovanför (above) eller `<B>` för att infoga en cell under (below). Kombinationen `<DD>` raderar cellen."
   ]
  },
  {
   "cell_type": "markdown",
   "metadata": {},
   "source": [
    "Det andra läget är editeringsläget vilket syns genom en grön markering till vänster.\n",
    "\n",
    "<img src=\"assets/images/edit_cell.png\" width=1000 align=\"left\">\n",
    "\n",
    "I detta läge kan man skriva till cellen, oberoende om det är i form av markdown eller kod."
   ]
  },
  {
   "cell_type": "markdown",
   "metadata": {},
   "source": [
    "### Exekvera celler\n",
    "Dags för den viktigaste funktionen av alla, att exekvera celler. Lyckligtvis är det väldigt enkelt. Kombinationen `<SKIFT+ENTER>` exekverar cellen och väljer cellen nedan. I det fall man kör sista cellen infogas en ny tom cell."
   ]
  },
  {
   "cell_type": "markdown",
   "metadata": {},
   "source": [
    "### Autocompletion\n",
    "När man skriver kod har man också tillgång till autocompletion vilket är otroligt användbart när man inte har memorerat vilka funktioner man ska använda för en specifik beräkning. Autocompletion aktiveras genom `<TAB>`.\n",
    "\n",
    "<img src=\"assets/images/tab_completion.png\" width=300 align=\"left\">"
   ]
  },
  {
   "cell_type": "markdown",
   "metadata": {},
   "source": [
    "### Function help\n",
    "Vidare har man tillgång till samtliga funktioners hjälpfiler. Detta aktiveras genom att man står inom en funktions paranteser och trycker på `<SKIFT+TAB>`. En gång aktiverar en översikt och två tryck aktiverar ett större fönster. Prova!\n",
    "\n",
    "<img src=\"assets/images/help.png\" width=700 align=\"left\">"
   ]
  },
  {
   "cell_type": "markdown",
   "metadata": {},
   "source": [
    "Det borde sammanfatta den mest grundläggande funktionaliteten. I övrigt är det bara att uppmuntra att klicka runt, titta i alla menyer, testa och googla fram det ni vill åt."
   ]
  },
  {
   "cell_type": "markdown",
   "metadata": {},
   "source": [
    "### Överkurs\n",
    "Det vi gått igenom hittills är i all sin enkelhet ett otroligt kraftigt verktyg, och då har vi bara skrapat på ytan. Notebooks innehåller också en mängd smarta funktioner. Några exempel kommer här.\n",
    "#### Integration med bash\n",
    "Genom att starta en kodrad med `!` kommer man åt alla commandline-verktyg på maskinen. Detta är användbart för massor av ändamål. Exempelvis lista filer på maskinen som kör Jupyter: "
   ]
  },
  {
   "cell_type": "code",
   "execution_count": 7,
   "metadata": {
    "collapsed": false
   },
   "outputs": [
    {
     "name": "stdout",
     "output_type": "stream",
     "text": [
      "total 8\r\n",
      "drwx------ 3 kaalih kaalih 4096 maj 26 07:28 data\r\n",
      "drwx------ 3 kaalih kaalih 4096 okt  9 19:53 images\r\n"
     ]
    }
   ],
   "source": [
    "!ls -l assets"
   ]
  },
  {
   "cell_type": "markdown",
   "metadata": {},
   "source": [
    "#### Cell Magics\n",
    "Jupyter innehåller en lång rad smarta så kallade cell magics som man kommer åt genom att starta en kodrad med `%` eller en hel cell med `%%`. Exempelvis för att se hur lång tid en cell tar att exekvera:"
   ]
  },
  {
   "cell_type": "code",
   "execution_count": 8,
   "metadata": {
    "collapsed": false
   },
   "outputs": [
    {
     "name": "stdout",
     "output_type": "stream",
     "text": [
      "10000 loops, best of 3: 53.2 µs per loop\n"
     ]
    }
   ],
   "source": [
    "%%timeit\n",
    "\n",
    "val = 0\n",
    "\n",
    "for i in range(1,1000):\n",
    "    val = val + i"
   ]
  }
 ],
 "metadata": {
  "anaconda-cloud": {},
  "kernelspec": {
   "display_name": "Python [conda root]",
   "language": "python",
   "name": "conda-root-py"
  },
  "language_info": {
   "codemirror_mode": {
    "name": "ipython",
    "version": 3
   },
   "file_extension": ".py",
   "mimetype": "text/x-python",
   "name": "python",
   "nbconvert_exporter": "python",
   "pygments_lexer": "ipython3",
   "version": "3.5.2"
  }
 },
 "nbformat": 4,
 "nbformat_minor": 0
}
