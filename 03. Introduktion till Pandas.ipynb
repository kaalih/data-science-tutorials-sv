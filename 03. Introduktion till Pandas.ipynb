{
 "cells": [
  {
   "cell_type": "markdown",
   "metadata": {},
   "source": [
    "# Introduktion till Pandas\n",
    "Pandas är ett pythonbibliotek för bearbetning av strukturerade dataset. Den primära datastrukturen kallas för dataframe precis som i R och Spark. \n",
    "\n",
    "I Pandas finns stöd för det mesta som behövs för att jobba med data. Detta är en introduktion som kommer att fokusera på grunderna för att komma igång och för att förstå mer avancerade koncept."
   ]
  },
  {
   "cell_type": "markdown",
   "metadata": {},
   "source": [
    "### Importera Pandas och läs in ett dataset\n",
    "Pandas är inte en del av standardpython och behöver därför importeras för att kunna användas. Det är standard att använda aliaset `pd` för Pandas enligt nedan"
   ]
  },
  {
   "cell_type": "code",
   "execution_count": 10,
   "metadata": {
    "collapsed": true
   },
   "outputs": [],
   "source": [
    "import pandas as pd"
   ]
  },
  {
   "cell_type": "markdown",
   "metadata": {},
   "source": [
    "När vi har importerat Pandas kan vi använda oss av `pd` för att läsa in lite data."
   ]
  },
  {
   "cell_type": "code",
   "execution_count": 11,
   "metadata": {
    "collapsed": false
   },
   "outputs": [],
   "source": [
    "befolkning = pd.read_csv('./assets/data/befolkning.txt', sep='\\t', encoding='utf-16')"
   ]
  },
  {
   "cell_type": "markdown",
   "metadata": {},
   "source": [
    "När vi läst in datat kan vi använda en mängd funktioner för att se vilken data vi fångar. Funktionen `.head()` visar de 5 första raderna i datasetet medan `.tail()` visar de 5 sista."
   ]
  },
  {
   "cell_type": "code",
   "execution_count": 12,
   "metadata": {
    "collapsed": false
   },
   "outputs": [
    {
     "data": {
      "text/plain": [
       "pandas.core.frame.DataFrame"
      ]
     },
     "execution_count": 12,
     "metadata": {},
     "output_type": "execute_result"
    }
   ],
   "source": [
    "type(befolkning)"
   ]
  },
  {
   "cell_type": "code",
   "execution_count": 13,
   "metadata": {
    "collapsed": false,
    "scrolled": true
   },
   "outputs": [
    {
     "data": {
      "text/html": [
       "<div>\n",
       "<table border=\"1\" class=\"dataframe\">\n",
       "  <thead>\n",
       "    <tr style=\"text-align: right;\">\n",
       "      <th></th>\n",
       "      <th>stad</th>\n",
       "      <th>lan</th>\n",
       "      <th>inv_ort</th>\n",
       "      <th>inv_kommun</th>\n",
       "    </tr>\n",
       "  </thead>\n",
       "  <tbody>\n",
       "    <tr>\n",
       "      <th>0</th>\n",
       "      <td>Stockholm</td>\n",
       "      <td>Stockholms län</td>\n",
       "      <td>1372565</td>\n",
       "      <td>923516</td>\n",
       "    </tr>\n",
       "    <tr>\n",
       "      <th>1</th>\n",
       "      <td>Göteborg</td>\n",
       "      <td>Västra Götalands län</td>\n",
       "      <td>549839</td>\n",
       "      <td>548190</td>\n",
       "    </tr>\n",
       "    <tr>\n",
       "      <th>2</th>\n",
       "      <td>Malmö</td>\n",
       "      <td>Skåne län</td>\n",
       "      <td>280415</td>\n",
       "      <td>322574</td>\n",
       "    </tr>\n",
       "    <tr>\n",
       "      <th>3</th>\n",
       "      <td>Uppsala</td>\n",
       "      <td>Uppsala län</td>\n",
       "      <td>140454</td>\n",
       "      <td>210126</td>\n",
       "    </tr>\n",
       "    <tr>\n",
       "      <th>4</th>\n",
       "      <td>Västerås</td>\n",
       "      <td>Västmanlands län</td>\n",
       "      <td>110877</td>\n",
       "      <td>145218</td>\n",
       "    </tr>\n",
       "  </tbody>\n",
       "</table>\n",
       "</div>"
      ],
      "text/plain": [
       "        stad                   lan  inv_ort  inv_kommun\n",
       "0  Stockholm        Stockholms län  1372565      923516\n",
       "1   Göteborg  Västra Götalands län   549839      548190\n",
       "2      Malmö             Skåne län   280415      322574\n",
       "3    Uppsala           Uppsala län   140454      210126\n",
       "4   Västerås      Västmanlands län   110877      145218"
      ]
     },
     "execution_count": 13,
     "metadata": {},
     "output_type": "execute_result"
    }
   ],
   "source": [
    "befolkning.head()"
   ]
  },
  {
   "cell_type": "code",
   "execution_count": 14,
   "metadata": {
    "collapsed": false
   },
   "outputs": [
    {
     "data": {
      "text/html": [
       "<div>\n",
       "<table border=\"1\" class=\"dataframe\">\n",
       "  <thead>\n",
       "    <tr style=\"text-align: right;\">\n",
       "      <th></th>\n",
       "      <th>stad</th>\n",
       "      <th>lan</th>\n",
       "      <th>inv_ort</th>\n",
       "      <th>inv_kommun</th>\n",
       "    </tr>\n",
       "  </thead>\n",
       "  <tbody>\n",
       "    <tr>\n",
       "      <th>15</th>\n",
       "      <td>Södertälje</td>\n",
       "      <td>Stockholms län</td>\n",
       "      <td>64619</td>\n",
       "      <td>93202</td>\n",
       "    </tr>\n",
       "    <tr>\n",
       "      <th>16</th>\n",
       "      <td>Karlstad</td>\n",
       "      <td>Värmlands län</td>\n",
       "      <td>61685</td>\n",
       "      <td>89245</td>\n",
       "    </tr>\n",
       "    <tr>\n",
       "      <th>17</th>\n",
       "      <td>Täby</td>\n",
       "      <td>Stockholms län</td>\n",
       "      <td>61272</td>\n",
       "      <td>68281</td>\n",
       "    </tr>\n",
       "    <tr>\n",
       "      <th>18</th>\n",
       "      <td>Växjö</td>\n",
       "      <td>Kronobergs län</td>\n",
       "      <td>60887</td>\n",
       "      <td>88108</td>\n",
       "    </tr>\n",
       "    <tr>\n",
       "      <th>19</th>\n",
       "      <td>Halmstad</td>\n",
       "      <td>Hallands län</td>\n",
       "      <td>58577</td>\n",
       "      <td>96952</td>\n",
       "    </tr>\n",
       "  </tbody>\n",
       "</table>\n",
       "</div>"
      ],
      "text/plain": [
       "          stad             lan  inv_ort  inv_kommun\n",
       "15  Södertälje  Stockholms län    64619       93202\n",
       "16    Karlstad   Värmlands län    61685       89245\n",
       "17        Täby  Stockholms län    61272       68281\n",
       "18       Växjö  Kronobergs län    60887       88108\n",
       "19    Halmstad    Hallands län    58577       96952"
      ]
     },
     "execution_count": 14,
     "metadata": {},
     "output_type": "execute_result"
    }
   ],
   "source": [
    "befolkning.tail()"
   ]
  },
  {
   "cell_type": "markdown",
   "metadata": {},
   "source": [
    "Funktionerna `.info()` visar en översikt över vad datasetet består av inklusive antal rader, kolumner, datatyper mm."
   ]
  },
  {
   "cell_type": "code",
   "execution_count": 15,
   "metadata": {
    "collapsed": false
   },
   "outputs": [
    {
     "name": "stdout",
     "output_type": "stream",
     "text": [
      "<class 'pandas.core.frame.DataFrame'>\n",
      "RangeIndex: 20 entries, 0 to 19\n",
      "Data columns (total 4 columns):\n",
      "stad          20 non-null object\n",
      "lan           20 non-null object\n",
      "inv_ort       20 non-null int64\n",
      "inv_kommun    20 non-null int64\n",
      "dtypes: int64(2), object(2)\n",
      "memory usage: 720.0+ bytes\n"
     ]
    }
   ],
   "source": [
    "befolkning.info()"
   ]
  },
  {
   "cell_type": "markdown",
   "metadata": {},
   "source": [
    "### Rader och kolumner\n",
    "Pandas har rik funktionalitet för att jobba med filter och selekteringar. I grunden består Pandas av radindex, kolumnindex och data. Dessa kan visas enligt nedan."
   ]
  },
  {
   "cell_type": "code",
   "execution_count": 16,
   "metadata": {
    "collapsed": false
   },
   "outputs": [
    {
     "data": {
      "text/plain": [
       "Index(['stad', 'lan', 'inv_ort', 'inv_kommun'], dtype='object')"
      ]
     },
     "execution_count": 16,
     "metadata": {},
     "output_type": "execute_result"
    }
   ],
   "source": [
    "befolkning.columns"
   ]
  },
  {
   "cell_type": "code",
   "execution_count": 17,
   "metadata": {
    "collapsed": false
   },
   "outputs": [
    {
     "data": {
      "text/plain": [
       "RangeIndex(start=0, stop=20, step=1)"
      ]
     },
     "execution_count": 17,
     "metadata": {},
     "output_type": "execute_result"
    }
   ],
   "source": [
    "befolkning.index"
   ]
  },
  {
   "cell_type": "code",
   "execution_count": 18,
   "metadata": {
    "collapsed": false
   },
   "outputs": [
    {
     "data": {
      "text/plain": [
       "array([['Stockholm', 'Stockholms län', 1372565, 923516],\n",
       "       ['Göteborg', 'Västra Götalands län', 549839, 548190],\n",
       "       ['Malmö', 'Skåne län', 280415, 322574],\n",
       "       ['Uppsala', 'Uppsala län', 140454, 210126],\n",
       "       ['Västerås', 'Västmanlands län', 110877, 145218],\n",
       "       ['Örebro', 'Örebro län', 107038, 144200],\n",
       "       ['Linköping', 'Östergötlands län', 104232, 152966],\n",
       "       ['Helsingborg', 'Skåne län', 97122, 137909],\n",
       "       ['Jönköping', 'Jönköpings län', 89396, 133310],\n",
       "       ['Norrköping', 'Östergötlands län', 87247, 137035],\n",
       "       ['Lund', 'Skåne län', 82800, 116834],\n",
       "       ['Umeå', 'Västerbottens län', 79594, 120777],\n",
       "       ['Gävle', 'Gävleborgs län', 71033, 98877],\n",
       "       ['Borås', 'Västra Götalands län', 66273, 108488],\n",
       "       ['Eskilstuna', 'Södermanlands län', 64679, 102065],\n",
       "       ['Södertälje', 'Stockholms län', 64619, 93202],\n",
       "       ['Karlstad', 'Värmlands län', 61685, 89245],\n",
       "       ['Täby', 'Stockholms län', 61272, 68281],\n",
       "       ['Växjö', 'Kronobergs län', 60887, 88108],\n",
       "       ['Halmstad', 'Hallands län', 58577, 96952]], dtype=object)"
      ]
     },
     "execution_count": 18,
     "metadata": {},
     "output_type": "execute_result"
    }
   ],
   "source": [
    "befolkning.values"
   ]
  },
  {
   "cell_type": "markdown",
   "metadata": {},
   "source": [
    "Dessa index är de man använder för att plocka ut specifika subset av datat. För att välja ut en specifik kolumn används `['kolumn_namn']`. Datastrukturen i Pandas när man arbetar med en enstaka kolumn kallas för `Series`"
   ]
  },
  {
   "cell_type": "code",
   "execution_count": 19,
   "metadata": {
    "collapsed": false
   },
   "outputs": [
    {
     "data": {
      "text/plain": [
       "0           Stockholms län\n",
       "1     Västra Götalands län\n",
       "2                Skåne län\n",
       "3              Uppsala län\n",
       "4         Västmanlands län\n",
       "5               Örebro län\n",
       "6        Östergötlands län\n",
       "7                Skåne län\n",
       "8           Jönköpings län\n",
       "9        Östergötlands län\n",
       "10               Skåne län\n",
       "11       Västerbottens län\n",
       "12          Gävleborgs län\n",
       "13    Västra Götalands län\n",
       "14       Södermanlands län\n",
       "15          Stockholms län\n",
       "16           Värmlands län\n",
       "17          Stockholms län\n",
       "18          Kronobergs län\n",
       "19            Hallands län\n",
       "Name: lan, dtype: object"
      ]
     },
     "execution_count": 19,
     "metadata": {},
     "output_type": "execute_result"
    }
   ],
   "source": [
    "befolkning['lan']"
   ]
  },
  {
   "cell_type": "code",
   "execution_count": 20,
   "metadata": {
    "collapsed": false
   },
   "outputs": [
    {
     "data": {
      "text/plain": [
       "pandas.core.series.Series"
      ]
     },
     "execution_count": 20,
     "metadata": {},
     "output_type": "execute_result"
    }
   ],
   "source": [
    "type(befolkning['stad'])"
   ]
  },
  {
   "cell_type": "markdown",
   "metadata": {},
   "source": [
    "För att välja flera kolumner kan man skicka in en lista på kolumnnamn. Detta går att använda tillsammans med andra funktioner."
   ]
  },
  {
   "cell_type": "code",
   "execution_count": 21,
   "metadata": {
    "collapsed": false
   },
   "outputs": [
    {
     "data": {
      "text/html": [
       "<div>\n",
       "<table border=\"1\" class=\"dataframe\">\n",
       "  <thead>\n",
       "    <tr style=\"text-align: right;\">\n",
       "      <th></th>\n",
       "      <th>stad</th>\n",
       "      <th>inv_ort</th>\n",
       "    </tr>\n",
       "  </thead>\n",
       "  <tbody>\n",
       "    <tr>\n",
       "      <th>0</th>\n",
       "      <td>Stockholm</td>\n",
       "      <td>1372565</td>\n",
       "    </tr>\n",
       "    <tr>\n",
       "      <th>1</th>\n",
       "      <td>Göteborg</td>\n",
       "      <td>549839</td>\n",
       "    </tr>\n",
       "    <tr>\n",
       "      <th>2</th>\n",
       "      <td>Malmö</td>\n",
       "      <td>280415</td>\n",
       "    </tr>\n",
       "    <tr>\n",
       "      <th>3</th>\n",
       "      <td>Uppsala</td>\n",
       "      <td>140454</td>\n",
       "    </tr>\n",
       "    <tr>\n",
       "      <th>4</th>\n",
       "      <td>Västerås</td>\n",
       "      <td>110877</td>\n",
       "    </tr>\n",
       "    <tr>\n",
       "      <th>5</th>\n",
       "      <td>Örebro</td>\n",
       "      <td>107038</td>\n",
       "    </tr>\n",
       "    <tr>\n",
       "      <th>6</th>\n",
       "      <td>Linköping</td>\n",
       "      <td>104232</td>\n",
       "    </tr>\n",
       "    <tr>\n",
       "      <th>7</th>\n",
       "      <td>Helsingborg</td>\n",
       "      <td>97122</td>\n",
       "    </tr>\n",
       "    <tr>\n",
       "      <th>8</th>\n",
       "      <td>Jönköping</td>\n",
       "      <td>89396</td>\n",
       "    </tr>\n",
       "    <tr>\n",
       "      <th>9</th>\n",
       "      <td>Norrköping</td>\n",
       "      <td>87247</td>\n",
       "    </tr>\n",
       "    <tr>\n",
       "      <th>10</th>\n",
       "      <td>Lund</td>\n",
       "      <td>82800</td>\n",
       "    </tr>\n",
       "    <tr>\n",
       "      <th>11</th>\n",
       "      <td>Umeå</td>\n",
       "      <td>79594</td>\n",
       "    </tr>\n",
       "    <tr>\n",
       "      <th>12</th>\n",
       "      <td>Gävle</td>\n",
       "      <td>71033</td>\n",
       "    </tr>\n",
       "    <tr>\n",
       "      <th>13</th>\n",
       "      <td>Borås</td>\n",
       "      <td>66273</td>\n",
       "    </tr>\n",
       "    <tr>\n",
       "      <th>14</th>\n",
       "      <td>Eskilstuna</td>\n",
       "      <td>64679</td>\n",
       "    </tr>\n",
       "    <tr>\n",
       "      <th>15</th>\n",
       "      <td>Södertälje</td>\n",
       "      <td>64619</td>\n",
       "    </tr>\n",
       "    <tr>\n",
       "      <th>16</th>\n",
       "      <td>Karlstad</td>\n",
       "      <td>61685</td>\n",
       "    </tr>\n",
       "    <tr>\n",
       "      <th>17</th>\n",
       "      <td>Täby</td>\n",
       "      <td>61272</td>\n",
       "    </tr>\n",
       "    <tr>\n",
       "      <th>18</th>\n",
       "      <td>Växjö</td>\n",
       "      <td>60887</td>\n",
       "    </tr>\n",
       "    <tr>\n",
       "      <th>19</th>\n",
       "      <td>Halmstad</td>\n",
       "      <td>58577</td>\n",
       "    </tr>\n",
       "  </tbody>\n",
       "</table>\n",
       "</div>"
      ],
      "text/plain": [
       "           stad  inv_ort\n",
       "0     Stockholm  1372565\n",
       "1      Göteborg   549839\n",
       "2         Malmö   280415\n",
       "3       Uppsala   140454\n",
       "4      Västerås   110877\n",
       "5        Örebro   107038\n",
       "6     Linköping   104232\n",
       "7   Helsingborg    97122\n",
       "8     Jönköping    89396\n",
       "9    Norrköping    87247\n",
       "10         Lund    82800\n",
       "11         Umeå    79594\n",
       "12        Gävle    71033\n",
       "13        Borås    66273\n",
       "14   Eskilstuna    64679\n",
       "15   Södertälje    64619\n",
       "16     Karlstad    61685\n",
       "17         Täby    61272\n",
       "18        Växjö    60887\n",
       "19     Halmstad    58577"
      ]
     },
     "execution_count": 21,
     "metadata": {},
     "output_type": "execute_result"
    }
   ],
   "source": [
    "befolkning[['stad', 'inv_ort']]"
   ]
  },
  {
   "cell_type": "code",
   "execution_count": 22,
   "metadata": {
    "collapsed": false
   },
   "outputs": [
    {
     "data": {
      "text/html": [
       "<div>\n",
       "<table border=\"1\" class=\"dataframe\">\n",
       "  <thead>\n",
       "    <tr style=\"text-align: right;\">\n",
       "      <th></th>\n",
       "      <th>stad</th>\n",
       "      <th>inv_ort</th>\n",
       "    </tr>\n",
       "  </thead>\n",
       "  <tbody>\n",
       "    <tr>\n",
       "      <th>0</th>\n",
       "      <td>Stockholm</td>\n",
       "      <td>1372565</td>\n",
       "    </tr>\n",
       "    <tr>\n",
       "      <th>1</th>\n",
       "      <td>Göteborg</td>\n",
       "      <td>549839</td>\n",
       "    </tr>\n",
       "    <tr>\n",
       "      <th>2</th>\n",
       "      <td>Malmö</td>\n",
       "      <td>280415</td>\n",
       "    </tr>\n",
       "    <tr>\n",
       "      <th>3</th>\n",
       "      <td>Uppsala</td>\n",
       "      <td>140454</td>\n",
       "    </tr>\n",
       "    <tr>\n",
       "      <th>4</th>\n",
       "      <td>Västerås</td>\n",
       "      <td>110877</td>\n",
       "    </tr>\n",
       "    <tr>\n",
       "      <th>5</th>\n",
       "      <td>Örebro</td>\n",
       "      <td>107038</td>\n",
       "    </tr>\n",
       "    <tr>\n",
       "      <th>6</th>\n",
       "      <td>Linköping</td>\n",
       "      <td>104232</td>\n",
       "    </tr>\n",
       "    <tr>\n",
       "      <th>7</th>\n",
       "      <td>Helsingborg</td>\n",
       "      <td>97122</td>\n",
       "    </tr>\n",
       "    <tr>\n",
       "      <th>8</th>\n",
       "      <td>Jönköping</td>\n",
       "      <td>89396</td>\n",
       "    </tr>\n",
       "    <tr>\n",
       "      <th>9</th>\n",
       "      <td>Norrköping</td>\n",
       "      <td>87247</td>\n",
       "    </tr>\n",
       "    <tr>\n",
       "      <th>10</th>\n",
       "      <td>Lund</td>\n",
       "      <td>82800</td>\n",
       "    </tr>\n",
       "    <tr>\n",
       "      <th>11</th>\n",
       "      <td>Umeå</td>\n",
       "      <td>79594</td>\n",
       "    </tr>\n",
       "    <tr>\n",
       "      <th>12</th>\n",
       "      <td>Gävle</td>\n",
       "      <td>71033</td>\n",
       "    </tr>\n",
       "    <tr>\n",
       "      <th>13</th>\n",
       "      <td>Borås</td>\n",
       "      <td>66273</td>\n",
       "    </tr>\n",
       "    <tr>\n",
       "      <th>14</th>\n",
       "      <td>Eskilstuna</td>\n",
       "      <td>64679</td>\n",
       "    </tr>\n",
       "    <tr>\n",
       "      <th>15</th>\n",
       "      <td>Södertälje</td>\n",
       "      <td>64619</td>\n",
       "    </tr>\n",
       "    <tr>\n",
       "      <th>16</th>\n",
       "      <td>Karlstad</td>\n",
       "      <td>61685</td>\n",
       "    </tr>\n",
       "    <tr>\n",
       "      <th>17</th>\n",
       "      <td>Täby</td>\n",
       "      <td>61272</td>\n",
       "    </tr>\n",
       "    <tr>\n",
       "      <th>18</th>\n",
       "      <td>Växjö</td>\n",
       "      <td>60887</td>\n",
       "    </tr>\n",
       "    <tr>\n",
       "      <th>19</th>\n",
       "      <td>Halmstad</td>\n",
       "      <td>58577</td>\n",
       "    </tr>\n",
       "  </tbody>\n",
       "</table>\n",
       "</div>"
      ],
      "text/plain": [
       "           stad  inv_ort\n",
       "0     Stockholm  1372565\n",
       "1      Göteborg   549839\n",
       "2         Malmö   280415\n",
       "3       Uppsala   140454\n",
       "4      Västerås   110877\n",
       "5        Örebro   107038\n",
       "6     Linköping   104232\n",
       "7   Helsingborg    97122\n",
       "8     Jönköping    89396\n",
       "9    Norrköping    87247\n",
       "10         Lund    82800\n",
       "11         Umeå    79594\n",
       "12        Gävle    71033\n",
       "13        Borås    66273\n",
       "14   Eskilstuna    64679\n",
       "15   Södertälje    64619\n",
       "16     Karlstad    61685\n",
       "17         Täby    61272\n",
       "18        Växjö    60887\n",
       "19     Halmstad    58577"
      ]
     },
     "execution_count": 22,
     "metadata": {},
     "output_type": "execute_result"
    }
   ],
   "source": [
    "cols = ['stad', 'inv_ort']\n",
    "\n",
    "befolkning[cols]"
   ]
  },
  {
   "cell_type": "markdown",
   "metadata": {},
   "source": [
    "För att selektera rader gör man på samma sätt men måste ange en range enligt `[start:slut]`. Notera att python enbart tar värde upp till och inte inklusive slutindex."
   ]
  },
  {
   "cell_type": "code",
   "execution_count": 23,
   "metadata": {
    "collapsed": false
   },
   "outputs": [
    {
     "data": {
      "text/html": [
       "<div>\n",
       "<table border=\"1\" class=\"dataframe\">\n",
       "  <thead>\n",
       "    <tr style=\"text-align: right;\">\n",
       "      <th></th>\n",
       "      <th>stad</th>\n",
       "      <th>lan</th>\n",
       "      <th>inv_ort</th>\n",
       "      <th>inv_kommun</th>\n",
       "    </tr>\n",
       "  </thead>\n",
       "  <tbody>\n",
       "    <tr>\n",
       "      <th>7</th>\n",
       "      <td>Helsingborg</td>\n",
       "      <td>Skåne län</td>\n",
       "      <td>97122</td>\n",
       "      <td>137909</td>\n",
       "    </tr>\n",
       "    <tr>\n",
       "      <th>8</th>\n",
       "      <td>Jönköping</td>\n",
       "      <td>Jönköpings län</td>\n",
       "      <td>89396</td>\n",
       "      <td>133310</td>\n",
       "    </tr>\n",
       "    <tr>\n",
       "      <th>9</th>\n",
       "      <td>Norrköping</td>\n",
       "      <td>Östergötlands län</td>\n",
       "      <td>87247</td>\n",
       "      <td>137035</td>\n",
       "    </tr>\n",
       "  </tbody>\n",
       "</table>\n",
       "</div>"
      ],
      "text/plain": [
       "          stad                lan  inv_ort  inv_kommun\n",
       "7  Helsingborg          Skåne län    97122      137909\n",
       "8    Jönköping     Jönköpings län    89396      133310\n",
       "9   Norrköping  Östergötlands län    87247      137035"
      ]
     },
     "execution_count": 23,
     "metadata": {},
     "output_type": "execute_result"
    }
   ],
   "source": [
    "befolkning[7:10]"
   ]
  },
  {
   "cell_type": "markdown",
   "metadata": {},
   "source": [
    "Selekteringarna går att kombinera enligt nedan"
   ]
  },
  {
   "cell_type": "code",
   "execution_count": 24,
   "metadata": {
    "collapsed": false
   },
   "outputs": [
    {
     "data": {
      "text/html": [
       "<div>\n",
       "<table border=\"1\" class=\"dataframe\">\n",
       "  <thead>\n",
       "    <tr style=\"text-align: right;\">\n",
       "      <th></th>\n",
       "      <th>stad</th>\n",
       "      <th>inv_ort</th>\n",
       "    </tr>\n",
       "  </thead>\n",
       "  <tbody>\n",
       "    <tr>\n",
       "      <th>7</th>\n",
       "      <td>Helsingborg</td>\n",
       "      <td>97122</td>\n",
       "    </tr>\n",
       "    <tr>\n",
       "      <th>8</th>\n",
       "      <td>Jönköping</td>\n",
       "      <td>89396</td>\n",
       "    </tr>\n",
       "    <tr>\n",
       "      <th>9</th>\n",
       "      <td>Norrköping</td>\n",
       "      <td>87247</td>\n",
       "    </tr>\n",
       "  </tbody>\n",
       "</table>\n",
       "</div>"
      ],
      "text/plain": [
       "          stad  inv_ort\n",
       "7  Helsingborg    97122\n",
       "8    Jönköping    89396\n",
       "9   Norrköping    87247"
      ]
     },
     "execution_count": 24,
     "metadata": {},
     "output_type": "execute_result"
    }
   ],
   "source": [
    "befolkning[7:10][cols]"
   ]
  },
  {
   "cell_type": "markdown",
   "metadata": {},
   "source": [
    "Man kan också använda funktionen `.ix[rad,kolumn]` för att selektera data. I detta fallet används numeriska index för både rad och kolumn vilket är användbart om man har väldigt många kolumner. Man kan exempelvis arbeta med öppna interval för att ta alla kolumner exklusive en målvariabel."
   ]
  },
  {
   "cell_type": "code",
   "execution_count": 25,
   "metadata": {
    "collapsed": false
   },
   "outputs": [
    {
     "data": {
      "text/html": [
       "<div>\n",
       "<table border=\"1\" class=\"dataframe\">\n",
       "  <thead>\n",
       "    <tr style=\"text-align: right;\">\n",
       "      <th></th>\n",
       "      <th>stad</th>\n",
       "      <th>lan</th>\n",
       "      <th>inv_ort</th>\n",
       "    </tr>\n",
       "  </thead>\n",
       "  <tbody>\n",
       "    <tr>\n",
       "      <th>7</th>\n",
       "      <td>Helsingborg</td>\n",
       "      <td>Skåne län</td>\n",
       "      <td>97122</td>\n",
       "    </tr>\n",
       "    <tr>\n",
       "      <th>8</th>\n",
       "      <td>Jönköping</td>\n",
       "      <td>Jönköpings län</td>\n",
       "      <td>89396</td>\n",
       "    </tr>\n",
       "    <tr>\n",
       "      <th>9</th>\n",
       "      <td>Norrköping</td>\n",
       "      <td>Östergötlands län</td>\n",
       "      <td>87247</td>\n",
       "    </tr>\n",
       "    <tr>\n",
       "      <th>10</th>\n",
       "      <td>Lund</td>\n",
       "      <td>Skåne län</td>\n",
       "      <td>82800</td>\n",
       "    </tr>\n",
       "  </tbody>\n",
       "</table>\n",
       "</div>"
      ],
      "text/plain": [
       "           stad                lan  inv_ort\n",
       "7   Helsingborg          Skåne län    97122\n",
       "8     Jönköping     Jönköpings län    89396\n",
       "9    Norrköping  Östergötlands län    87247\n",
       "10         Lund          Skåne län    82800"
      ]
     },
     "execution_count": 25,
     "metadata": {},
     "output_type": "execute_result"
    }
   ],
   "source": [
    "befolkning.ix[7:10, 0:3]"
   ]
  },
  {
   "cell_type": "markdown",
   "metadata": {},
   "source": [
    "Med ett öppet interval kan det se ut så här för att välja alla kolumner utom den sista. "
   ]
  },
  {
   "cell_type": "code",
   "execution_count": 26,
   "metadata": {
    "collapsed": false
   },
   "outputs": [
    {
     "data": {
      "text/html": [
       "<div>\n",
       "<table border=\"1\" class=\"dataframe\">\n",
       "  <thead>\n",
       "    <tr style=\"text-align: right;\">\n",
       "      <th></th>\n",
       "      <th>stad</th>\n",
       "      <th>lan</th>\n",
       "      <th>inv_ort</th>\n",
       "    </tr>\n",
       "  </thead>\n",
       "  <tbody>\n",
       "    <tr>\n",
       "      <th>0</th>\n",
       "      <td>Stockholm</td>\n",
       "      <td>Stockholms län</td>\n",
       "      <td>1372565</td>\n",
       "    </tr>\n",
       "    <tr>\n",
       "      <th>1</th>\n",
       "      <td>Göteborg</td>\n",
       "      <td>Västra Götalands län</td>\n",
       "      <td>549839</td>\n",
       "    </tr>\n",
       "    <tr>\n",
       "      <th>2</th>\n",
       "      <td>Malmö</td>\n",
       "      <td>Skåne län</td>\n",
       "      <td>280415</td>\n",
       "    </tr>\n",
       "    <tr>\n",
       "      <th>3</th>\n",
       "      <td>Uppsala</td>\n",
       "      <td>Uppsala län</td>\n",
       "      <td>140454</td>\n",
       "    </tr>\n",
       "    <tr>\n",
       "      <th>4</th>\n",
       "      <td>Västerås</td>\n",
       "      <td>Västmanlands län</td>\n",
       "      <td>110877</td>\n",
       "    </tr>\n",
       "    <tr>\n",
       "      <th>5</th>\n",
       "      <td>Örebro</td>\n",
       "      <td>Örebro län</td>\n",
       "      <td>107038</td>\n",
       "    </tr>\n",
       "  </tbody>\n",
       "</table>\n",
       "</div>"
      ],
      "text/plain": [
       "        stad                   lan  inv_ort\n",
       "0  Stockholm        Stockholms län  1372565\n",
       "1   Göteborg  Västra Götalands län   549839\n",
       "2      Malmö             Skåne län   280415\n",
       "3    Uppsala           Uppsala län   140454\n",
       "4   Västerås      Västmanlands län   110877\n",
       "5     Örebro            Örebro län   107038"
      ]
     },
     "execution_count": 26,
     "metadata": {},
     "output_type": "execute_result"
    }
   ],
   "source": [
    "befolkning.ix[0:5, :-1]"
   ]
  },
  {
   "cell_type": "markdown",
   "metadata": {},
   "source": [
    "### Kolumnoperationer\n",
    "Pandas stödjer operationer direkt på kolumner precis som man kan förvänta sig i SQL. Beroende på datatyp finns en mängd funktioner att tillgå. Datatyper kan visas genom attributet `.dtypes`."
   ]
  },
  {
   "cell_type": "code",
   "execution_count": 27,
   "metadata": {
    "collapsed": false
   },
   "outputs": [
    {
     "data": {
      "text/plain": [
       "stad          object\n",
       "lan           object\n",
       "inv_ort        int64\n",
       "inv_kommun     int64\n",
       "dtype: object"
      ]
     },
     "execution_count": 27,
     "metadata": {},
     "output_type": "execute_result"
    }
   ],
   "source": [
    "befolkning.dtypes"
   ]
  },
  {
   "cell_type": "code",
   "execution_count": 28,
   "metadata": {
    "collapsed": false
   },
   "outputs": [
    {
     "data": {
      "text/plain": [
       "0       Stockholm stad\n",
       "1        Göteborg stad\n",
       "2           Malmö stad\n",
       "3         Uppsala stad\n",
       "4        Västerås stad\n",
       "5          Örebro stad\n",
       "6       Linköping stad\n",
       "7     Helsingborg stad\n",
       "8       Jönköping stad\n",
       "9      Norrköping stad\n",
       "10           Lund stad\n",
       "11           Umeå stad\n",
       "12          Gävle stad\n",
       "13          Borås stad\n",
       "14     Eskilstuna stad\n",
       "15     Södertälje stad\n",
       "16       Karlstad stad\n",
       "17           Täby stad\n",
       "18          Växjö stad\n",
       "19       Halmstad stad\n",
       "Name: stad, dtype: object"
      ]
     },
     "execution_count": 28,
     "metadata": {},
     "output_type": "execute_result"
    }
   ],
   "source": [
    "befolkning['stad'] + ' stad'"
   ]
  },
  {
   "cell_type": "code",
   "execution_count": 29,
   "metadata": {
    "collapsed": false,
    "scrolled": true
   },
   "outputs": [
    {
     "data": {
      "text/plain": [
       "0          Stockholm, Stockholms län\n",
       "1     Göteborg, Västra Götalands län\n",
       "2                   Malmö, Skåne län\n",
       "3               Uppsala, Uppsala län\n",
       "4         Västerås, Västmanlands län\n",
       "5                 Örebro, Örebro län\n",
       "6       Linköping, Östergötlands län\n",
       "7             Helsingborg, Skåne län\n",
       "8          Jönköping, Jönköpings län\n",
       "9      Norrköping, Östergötlands län\n",
       "10                   Lund, Skåne län\n",
       "11           Umeå, Västerbottens län\n",
       "12             Gävle, Gävleborgs län\n",
       "13       Borås, Västra Götalands län\n",
       "14     Eskilstuna, Södermanlands län\n",
       "15        Södertälje, Stockholms län\n",
       "16           Karlstad, Värmlands län\n",
       "17              Täby, Stockholms län\n",
       "18             Växjö, Kronobergs län\n",
       "19            Halmstad, Hallands län\n",
       "dtype: object"
      ]
     },
     "execution_count": 29,
     "metadata": {},
     "output_type": "execute_result"
    }
   ],
   "source": [
    "befolkning['stad'] + ', ' + befolkning['lan']"
   ]
  },
  {
   "cell_type": "markdown",
   "metadata": {},
   "source": [
    "För att spara resultatet av en operation tillbaka till en dataframe så är det enkelt"
   ]
  },
  {
   "cell_type": "code",
   "execution_count": 30,
   "metadata": {
    "collapsed": false
   },
   "outputs": [
    {
     "data": {
      "text/html": [
       "<div>\n",
       "<table border=\"1\" class=\"dataframe\">\n",
       "  <thead>\n",
       "    <tr style=\"text-align: right;\">\n",
       "      <th></th>\n",
       "      <th>stad</th>\n",
       "      <th>lan</th>\n",
       "      <th>inv_ort</th>\n",
       "      <th>inv_kommun</th>\n",
       "      <th>nykolumn</th>\n",
       "    </tr>\n",
       "  </thead>\n",
       "  <tbody>\n",
       "    <tr>\n",
       "      <th>0</th>\n",
       "      <td>Stockholm</td>\n",
       "      <td>Stockholms län</td>\n",
       "      <td>1372565</td>\n",
       "      <td>923516</td>\n",
       "      <td>Stockholm, Stockholms län</td>\n",
       "    </tr>\n",
       "    <tr>\n",
       "      <th>1</th>\n",
       "      <td>Göteborg</td>\n",
       "      <td>Västra Götalands län</td>\n",
       "      <td>549839</td>\n",
       "      <td>548190</td>\n",
       "      <td>Göteborg, Västra Götalands län</td>\n",
       "    </tr>\n",
       "    <tr>\n",
       "      <th>2</th>\n",
       "      <td>Malmö</td>\n",
       "      <td>Skåne län</td>\n",
       "      <td>280415</td>\n",
       "      <td>322574</td>\n",
       "      <td>Malmö, Skåne län</td>\n",
       "    </tr>\n",
       "    <tr>\n",
       "      <th>3</th>\n",
       "      <td>Uppsala</td>\n",
       "      <td>Uppsala län</td>\n",
       "      <td>140454</td>\n",
       "      <td>210126</td>\n",
       "      <td>Uppsala, Uppsala län</td>\n",
       "    </tr>\n",
       "    <tr>\n",
       "      <th>4</th>\n",
       "      <td>Västerås</td>\n",
       "      <td>Västmanlands län</td>\n",
       "      <td>110877</td>\n",
       "      <td>145218</td>\n",
       "      <td>Västerås, Västmanlands län</td>\n",
       "    </tr>\n",
       "  </tbody>\n",
       "</table>\n",
       "</div>"
      ],
      "text/plain": [
       "        stad                   lan  inv_ort  inv_kommun  \\\n",
       "0  Stockholm        Stockholms län  1372565      923516   \n",
       "1   Göteborg  Västra Götalands län   549839      548190   \n",
       "2      Malmö             Skåne län   280415      322574   \n",
       "3    Uppsala           Uppsala län   140454      210126   \n",
       "4   Västerås      Västmanlands län   110877      145218   \n",
       "\n",
       "                         nykolumn  \n",
       "0       Stockholm, Stockholms län  \n",
       "1  Göteborg, Västra Götalands län  \n",
       "2                Malmö, Skåne län  \n",
       "3            Uppsala, Uppsala län  \n",
       "4      Västerås, Västmanlands län  "
      ]
     },
     "execution_count": 30,
     "metadata": {},
     "output_type": "execute_result"
    }
   ],
   "source": [
    "befolkning['nykolumn'] = befolkning['stad'] + ', ' + befolkning['lan']\n",
    "befolkning.head()"
   ]
  },
  {
   "cell_type": "markdown",
   "metadata": {},
   "source": [
    "För att droppa en kolumn används funktionen `.drop()`."
   ]
  },
  {
   "cell_type": "code",
   "execution_count": 31,
   "metadata": {
    "collapsed": false
   },
   "outputs": [],
   "source": [
    "befolkning.drop('nykolumn', axis=1, inplace=True)"
   ]
  },
  {
   "cell_type": "code",
   "execution_count": 32,
   "metadata": {
    "collapsed": false
   },
   "outputs": [
    {
     "data": {
      "text/html": [
       "<div>\n",
       "<table border=\"1\" class=\"dataframe\">\n",
       "  <thead>\n",
       "    <tr style=\"text-align: right;\">\n",
       "      <th></th>\n",
       "      <th>stad</th>\n",
       "      <th>lan</th>\n",
       "      <th>inv_ort</th>\n",
       "      <th>inv_kommun</th>\n",
       "    </tr>\n",
       "  </thead>\n",
       "  <tbody>\n",
       "    <tr>\n",
       "      <th>0</th>\n",
       "      <td>Stockholm</td>\n",
       "      <td>Stockholms län</td>\n",
       "      <td>1372565</td>\n",
       "      <td>923516</td>\n",
       "    </tr>\n",
       "    <tr>\n",
       "      <th>1</th>\n",
       "      <td>Göteborg</td>\n",
       "      <td>Västra Götalands län</td>\n",
       "      <td>549839</td>\n",
       "      <td>548190</td>\n",
       "    </tr>\n",
       "    <tr>\n",
       "      <th>2</th>\n",
       "      <td>Malmö</td>\n",
       "      <td>Skåne län</td>\n",
       "      <td>280415</td>\n",
       "      <td>322574</td>\n",
       "    </tr>\n",
       "    <tr>\n",
       "      <th>3</th>\n",
       "      <td>Uppsala</td>\n",
       "      <td>Uppsala län</td>\n",
       "      <td>140454</td>\n",
       "      <td>210126</td>\n",
       "    </tr>\n",
       "    <tr>\n",
       "      <th>4</th>\n",
       "      <td>Västerås</td>\n",
       "      <td>Västmanlands län</td>\n",
       "      <td>110877</td>\n",
       "      <td>145218</td>\n",
       "    </tr>\n",
       "    <tr>\n",
       "      <th>5</th>\n",
       "      <td>Örebro</td>\n",
       "      <td>Örebro län</td>\n",
       "      <td>107038</td>\n",
       "      <td>144200</td>\n",
       "    </tr>\n",
       "    <tr>\n",
       "      <th>6</th>\n",
       "      <td>Linköping</td>\n",
       "      <td>Östergötlands län</td>\n",
       "      <td>104232</td>\n",
       "      <td>152966</td>\n",
       "    </tr>\n",
       "    <tr>\n",
       "      <th>7</th>\n",
       "      <td>Helsingborg</td>\n",
       "      <td>Skåne län</td>\n",
       "      <td>97122</td>\n",
       "      <td>137909</td>\n",
       "    </tr>\n",
       "    <tr>\n",
       "      <th>8</th>\n",
       "      <td>Jönköping</td>\n",
       "      <td>Jönköpings län</td>\n",
       "      <td>89396</td>\n",
       "      <td>133310</td>\n",
       "    </tr>\n",
       "    <tr>\n",
       "      <th>9</th>\n",
       "      <td>Norrköping</td>\n",
       "      <td>Östergötlands län</td>\n",
       "      <td>87247</td>\n",
       "      <td>137035</td>\n",
       "    </tr>\n",
       "    <tr>\n",
       "      <th>10</th>\n",
       "      <td>Lund</td>\n",
       "      <td>Skåne län</td>\n",
       "      <td>82800</td>\n",
       "      <td>116834</td>\n",
       "    </tr>\n",
       "    <tr>\n",
       "      <th>11</th>\n",
       "      <td>Umeå</td>\n",
       "      <td>Västerbottens län</td>\n",
       "      <td>79594</td>\n",
       "      <td>120777</td>\n",
       "    </tr>\n",
       "    <tr>\n",
       "      <th>12</th>\n",
       "      <td>Gävle</td>\n",
       "      <td>Gävleborgs län</td>\n",
       "      <td>71033</td>\n",
       "      <td>98877</td>\n",
       "    </tr>\n",
       "    <tr>\n",
       "      <th>13</th>\n",
       "      <td>Borås</td>\n",
       "      <td>Västra Götalands län</td>\n",
       "      <td>66273</td>\n",
       "      <td>108488</td>\n",
       "    </tr>\n",
       "    <tr>\n",
       "      <th>14</th>\n",
       "      <td>Eskilstuna</td>\n",
       "      <td>Södermanlands län</td>\n",
       "      <td>64679</td>\n",
       "      <td>102065</td>\n",
       "    </tr>\n",
       "    <tr>\n",
       "      <th>15</th>\n",
       "      <td>Södertälje</td>\n",
       "      <td>Stockholms län</td>\n",
       "      <td>64619</td>\n",
       "      <td>93202</td>\n",
       "    </tr>\n",
       "    <tr>\n",
       "      <th>16</th>\n",
       "      <td>Karlstad</td>\n",
       "      <td>Värmlands län</td>\n",
       "      <td>61685</td>\n",
       "      <td>89245</td>\n",
       "    </tr>\n",
       "    <tr>\n",
       "      <th>17</th>\n",
       "      <td>Täby</td>\n",
       "      <td>Stockholms län</td>\n",
       "      <td>61272</td>\n",
       "      <td>68281</td>\n",
       "    </tr>\n",
       "    <tr>\n",
       "      <th>18</th>\n",
       "      <td>Växjö</td>\n",
       "      <td>Kronobergs län</td>\n",
       "      <td>60887</td>\n",
       "      <td>88108</td>\n",
       "    </tr>\n",
       "    <tr>\n",
       "      <th>19</th>\n",
       "      <td>Halmstad</td>\n",
       "      <td>Hallands län</td>\n",
       "      <td>58577</td>\n",
       "      <td>96952</td>\n",
       "    </tr>\n",
       "  </tbody>\n",
       "</table>\n",
       "</div>"
      ],
      "text/plain": [
       "           stad                   lan  inv_ort  inv_kommun\n",
       "0     Stockholm        Stockholms län  1372565      923516\n",
       "1      Göteborg  Västra Götalands län   549839      548190\n",
       "2         Malmö             Skåne län   280415      322574\n",
       "3       Uppsala           Uppsala län   140454      210126\n",
       "4      Västerås      Västmanlands län   110877      145218\n",
       "5        Örebro            Örebro län   107038      144200\n",
       "6     Linköping     Östergötlands län   104232      152966\n",
       "7   Helsingborg             Skåne län    97122      137909\n",
       "8     Jönköping        Jönköpings län    89396      133310\n",
       "9    Norrköping     Östergötlands län    87247      137035\n",
       "10         Lund             Skåne län    82800      116834\n",
       "11         Umeå     Västerbottens län    79594      120777\n",
       "12        Gävle        Gävleborgs län    71033       98877\n",
       "13        Borås  Västra Götalands län    66273      108488\n",
       "14   Eskilstuna     Södermanlands län    64679      102065\n",
       "15   Södertälje        Stockholms län    64619       93202\n",
       "16     Karlstad         Värmlands län    61685       89245\n",
       "17         Täby        Stockholms län    61272       68281\n",
       "18        Växjö        Kronobergs län    60887       88108\n",
       "19     Halmstad          Hallands län    58577       96952"
      ]
     },
     "execution_count": 32,
     "metadata": {},
     "output_type": "execute_result"
    }
   ],
   "source": [
    "befolkning"
   ]
  },
  {
   "cell_type": "markdown",
   "metadata": {},
   "source": [
    "Det går också att selektera ut de kolumner man är intresserad av och deklarera en ny dataframe."
   ]
  },
  {
   "cell_type": "code",
   "execution_count": 33,
   "metadata": {
    "collapsed": false,
    "scrolled": true
   },
   "outputs": [
    {
     "data": {
      "text/html": [
       "<div>\n",
       "<table border=\"1\" class=\"dataframe\">\n",
       "  <thead>\n",
       "    <tr style=\"text-align: right;\">\n",
       "      <th></th>\n",
       "      <th>stad</th>\n",
       "      <th>inv_ort</th>\n",
       "    </tr>\n",
       "  </thead>\n",
       "  <tbody>\n",
       "    <tr>\n",
       "      <th>0</th>\n",
       "      <td>Stockholm</td>\n",
       "      <td>1372565</td>\n",
       "    </tr>\n",
       "    <tr>\n",
       "      <th>1</th>\n",
       "      <td>Göteborg</td>\n",
       "      <td>549839</td>\n",
       "    </tr>\n",
       "    <tr>\n",
       "      <th>2</th>\n",
       "      <td>Malmö</td>\n",
       "      <td>280415</td>\n",
       "    </tr>\n",
       "    <tr>\n",
       "      <th>3</th>\n",
       "      <td>Uppsala</td>\n",
       "      <td>140454</td>\n",
       "    </tr>\n",
       "    <tr>\n",
       "      <th>4</th>\n",
       "      <td>Västerås</td>\n",
       "      <td>110877</td>\n",
       "    </tr>\n",
       "  </tbody>\n",
       "</table>\n",
       "</div>"
      ],
      "text/plain": [
       "        stad  inv_ort\n",
       "0  Stockholm  1372565\n",
       "1   Göteborg   549839\n",
       "2      Malmö   280415\n",
       "3    Uppsala   140454\n",
       "4   Västerås   110877"
      ]
     },
     "execution_count": 33,
     "metadata": {},
     "output_type": "execute_result"
    }
   ],
   "source": [
    "col = ['stad', 'inv_ort']\n",
    "\n",
    "df = befolkning[col]\n",
    "df.head()"
   ]
  },
  {
   "cell_type": "markdown",
   "metadata": {},
   "source": [
    "För numeriska kolumner fungerar operationer som man kan förvänta sig"
   ]
  },
  {
   "cell_type": "code",
   "execution_count": 34,
   "metadata": {
    "collapsed": false
   },
   "outputs": [
    {
     "data": {
      "text/plain": [
       "0     2745130\n",
       "1     1099678\n",
       "2      560830\n",
       "3      280908\n",
       "4      221754\n",
       "5      214076\n",
       "6      208464\n",
       "7      194244\n",
       "8      178792\n",
       "9      174494\n",
       "10     165600\n",
       "11     159188\n",
       "12     142066\n",
       "13     132546\n",
       "14     129358\n",
       "15     129238\n",
       "16     123370\n",
       "17     122544\n",
       "18     121774\n",
       "19     117154\n",
       "Name: inv_ort, dtype: int64"
      ]
     },
     "execution_count": 34,
     "metadata": {},
     "output_type": "execute_result"
    }
   ],
   "source": [
    "befolkning['inv_ort'] * 2"
   ]
  },
  {
   "cell_type": "code",
   "execution_count": 35,
   "metadata": {
    "collapsed": false
   },
   "outputs": [],
   "source": [
    "befolkning['ny'] = befolkning['inv_ort'] / befolkning['inv_kommun']"
   ]
  },
  {
   "cell_type": "code",
   "execution_count": 36,
   "metadata": {
    "collapsed": false
   },
   "outputs": [],
   "source": [
    "befolkning.drop('ny', axis=1, inplace=True)"
   ]
  },
  {
   "cell_type": "markdown",
   "metadata": {},
   "source": [
    "### Filtering\n",
    "För att filtrera rader kan alla vanliga uttryck användas. För att filtrera rader där kolumnen `inv_ort` är större än 100 000:"
   ]
  },
  {
   "cell_type": "code",
   "execution_count": 37,
   "metadata": {
    "collapsed": false
   },
   "outputs": [
    {
     "data": {
      "text/plain": [
       "0      True\n",
       "1      True\n",
       "2      True\n",
       "3      True\n",
       "4      True\n",
       "5      True\n",
       "6      True\n",
       "7     False\n",
       "8     False\n",
       "9     False\n",
       "10    False\n",
       "11    False\n",
       "12    False\n",
       "13    False\n",
       "14    False\n",
       "15    False\n",
       "16    False\n",
       "17    False\n",
       "18    False\n",
       "19    False\n",
       "Name: inv_ort, dtype: bool"
      ]
     },
     "execution_count": 37,
     "metadata": {},
     "output_type": "execute_result"
    }
   ],
   "source": [
    "f = befolkning['inv_ort'] > 100000\n",
    "f"
   ]
  },
  {
   "cell_type": "markdown",
   "metadata": {},
   "source": [
    "Som synes ger villkoret en vektor med True/False för varje rad. Denna vektor kan användas för att hitta de rader som uppfyller villkoret."
   ]
  },
  {
   "cell_type": "code",
   "execution_count": 38,
   "metadata": {
    "collapsed": false
   },
   "outputs": [
    {
     "data": {
      "text/html": [
       "<div>\n",
       "<table border=\"1\" class=\"dataframe\">\n",
       "  <thead>\n",
       "    <tr style=\"text-align: right;\">\n",
       "      <th></th>\n",
       "      <th>stad</th>\n",
       "      <th>lan</th>\n",
       "      <th>inv_ort</th>\n",
       "      <th>inv_kommun</th>\n",
       "    </tr>\n",
       "  </thead>\n",
       "  <tbody>\n",
       "    <tr>\n",
       "      <th>0</th>\n",
       "      <td>Stockholm</td>\n",
       "      <td>Stockholms län</td>\n",
       "      <td>1372565</td>\n",
       "      <td>923516</td>\n",
       "    </tr>\n",
       "    <tr>\n",
       "      <th>1</th>\n",
       "      <td>Göteborg</td>\n",
       "      <td>Västra Götalands län</td>\n",
       "      <td>549839</td>\n",
       "      <td>548190</td>\n",
       "    </tr>\n",
       "    <tr>\n",
       "      <th>2</th>\n",
       "      <td>Malmö</td>\n",
       "      <td>Skåne län</td>\n",
       "      <td>280415</td>\n",
       "      <td>322574</td>\n",
       "    </tr>\n",
       "    <tr>\n",
       "      <th>3</th>\n",
       "      <td>Uppsala</td>\n",
       "      <td>Uppsala län</td>\n",
       "      <td>140454</td>\n",
       "      <td>210126</td>\n",
       "    </tr>\n",
       "    <tr>\n",
       "      <th>4</th>\n",
       "      <td>Västerås</td>\n",
       "      <td>Västmanlands län</td>\n",
       "      <td>110877</td>\n",
       "      <td>145218</td>\n",
       "    </tr>\n",
       "    <tr>\n",
       "      <th>5</th>\n",
       "      <td>Örebro</td>\n",
       "      <td>Örebro län</td>\n",
       "      <td>107038</td>\n",
       "      <td>144200</td>\n",
       "    </tr>\n",
       "    <tr>\n",
       "      <th>6</th>\n",
       "      <td>Linköping</td>\n",
       "      <td>Östergötlands län</td>\n",
       "      <td>104232</td>\n",
       "      <td>152966</td>\n",
       "    </tr>\n",
       "  </tbody>\n",
       "</table>\n",
       "</div>"
      ],
      "text/plain": [
       "        stad                   lan  inv_ort  inv_kommun\n",
       "0  Stockholm        Stockholms län  1372565      923516\n",
       "1   Göteborg  Västra Götalands län   549839      548190\n",
       "2      Malmö             Skåne län   280415      322574\n",
       "3    Uppsala           Uppsala län   140454      210126\n",
       "4   Västerås      Västmanlands län   110877      145218\n",
       "5     Örebro            Örebro län   107038      144200\n",
       "6  Linköping     Östergötlands län   104232      152966"
      ]
     },
     "execution_count": 38,
     "metadata": {},
     "output_type": "execute_result"
    }
   ],
   "source": [
    "befolkning[f]"
   ]
  },
  {
   "cell_type": "markdown",
   "metadata": {},
   "source": [
    "på en rad ser det ut som följer"
   ]
  },
  {
   "cell_type": "code",
   "execution_count": 39,
   "metadata": {
    "collapsed": false
   },
   "outputs": [
    {
     "data": {
      "text/html": [
       "<div>\n",
       "<table border=\"1\" class=\"dataframe\">\n",
       "  <thead>\n",
       "    <tr style=\"text-align: right;\">\n",
       "      <th></th>\n",
       "      <th>stad</th>\n",
       "      <th>lan</th>\n",
       "      <th>inv_ort</th>\n",
       "      <th>inv_kommun</th>\n",
       "    </tr>\n",
       "  </thead>\n",
       "  <tbody>\n",
       "    <tr>\n",
       "      <th>0</th>\n",
       "      <td>Stockholm</td>\n",
       "      <td>Stockholms län</td>\n",
       "      <td>1372565</td>\n",
       "      <td>923516</td>\n",
       "    </tr>\n",
       "    <tr>\n",
       "      <th>1</th>\n",
       "      <td>Göteborg</td>\n",
       "      <td>Västra Götalands län</td>\n",
       "      <td>549839</td>\n",
       "      <td>548190</td>\n",
       "    </tr>\n",
       "    <tr>\n",
       "      <th>2</th>\n",
       "      <td>Malmö</td>\n",
       "      <td>Skåne län</td>\n",
       "      <td>280415</td>\n",
       "      <td>322574</td>\n",
       "    </tr>\n",
       "    <tr>\n",
       "      <th>3</th>\n",
       "      <td>Uppsala</td>\n",
       "      <td>Uppsala län</td>\n",
       "      <td>140454</td>\n",
       "      <td>210126</td>\n",
       "    </tr>\n",
       "    <tr>\n",
       "      <th>4</th>\n",
       "      <td>Västerås</td>\n",
       "      <td>Västmanlands län</td>\n",
       "      <td>110877</td>\n",
       "      <td>145218</td>\n",
       "    </tr>\n",
       "    <tr>\n",
       "      <th>5</th>\n",
       "      <td>Örebro</td>\n",
       "      <td>Örebro län</td>\n",
       "      <td>107038</td>\n",
       "      <td>144200</td>\n",
       "    </tr>\n",
       "    <tr>\n",
       "      <th>6</th>\n",
       "      <td>Linköping</td>\n",
       "      <td>Östergötlands län</td>\n",
       "      <td>104232</td>\n",
       "      <td>152966</td>\n",
       "    </tr>\n",
       "  </tbody>\n",
       "</table>\n",
       "</div>"
      ],
      "text/plain": [
       "        stad                   lan  inv_ort  inv_kommun\n",
       "0  Stockholm        Stockholms län  1372565      923516\n",
       "1   Göteborg  Västra Götalands län   549839      548190\n",
       "2      Malmö             Skåne län   280415      322574\n",
       "3    Uppsala           Uppsala län   140454      210126\n",
       "4   Västerås      Västmanlands län   110877      145218\n",
       "5     Örebro            Örebro län   107038      144200\n",
       "6  Linköping     Östergötlands län   104232      152966"
      ]
     },
     "execution_count": 39,
     "metadata": {},
     "output_type": "execute_result"
    }
   ],
   "source": [
    "befolkning[befolkning['inv_ort'] > 100000]"
   ]
  },
  {
   "cell_type": "markdown",
   "metadata": {
    "collapsed": true
   },
   "source": [
    "### Sorting\n",
    "Sortering av data är enkelt och görs så här."
   ]
  },
  {
   "cell_type": "code",
   "execution_count": 45,
   "metadata": {
    "collapsed": false,
    "scrolled": false
   },
   "outputs": [
    {
     "data": {
      "text/html": [
       "<div>\n",
       "<table border=\"1\" class=\"dataframe\">\n",
       "  <thead>\n",
       "    <tr style=\"text-align: right;\">\n",
       "      <th></th>\n",
       "      <th>stad</th>\n",
       "      <th>lan</th>\n",
       "      <th>inv_ort</th>\n",
       "      <th>inv_kommun</th>\n",
       "    </tr>\n",
       "  </thead>\n",
       "  <tbody>\n",
       "    <tr>\n",
       "      <th>13</th>\n",
       "      <td>Borås</td>\n",
       "      <td>Västra Götalands län</td>\n",
       "      <td>66273</td>\n",
       "      <td>108488</td>\n",
       "    </tr>\n",
       "    <tr>\n",
       "      <th>14</th>\n",
       "      <td>Eskilstuna</td>\n",
       "      <td>Södermanlands län</td>\n",
       "      <td>64679</td>\n",
       "      <td>102065</td>\n",
       "    </tr>\n",
       "    <tr>\n",
       "      <th>12</th>\n",
       "      <td>Gävle</td>\n",
       "      <td>Gävleborgs län</td>\n",
       "      <td>71033</td>\n",
       "      <td>98877</td>\n",
       "    </tr>\n",
       "    <tr>\n",
       "      <th>1</th>\n",
       "      <td>Göteborg</td>\n",
       "      <td>Västra Götalands län</td>\n",
       "      <td>549839</td>\n",
       "      <td>548190</td>\n",
       "    </tr>\n",
       "    <tr>\n",
       "      <th>19</th>\n",
       "      <td>Halmstad</td>\n",
       "      <td>Hallands län</td>\n",
       "      <td>58577</td>\n",
       "      <td>96952</td>\n",
       "    </tr>\n",
       "    <tr>\n",
       "      <th>7</th>\n",
       "      <td>Helsingborg</td>\n",
       "      <td>Skåne län</td>\n",
       "      <td>97122</td>\n",
       "      <td>137909</td>\n",
       "    </tr>\n",
       "    <tr>\n",
       "      <th>8</th>\n",
       "      <td>Jönköping</td>\n",
       "      <td>Jönköpings län</td>\n",
       "      <td>89396</td>\n",
       "      <td>133310</td>\n",
       "    </tr>\n",
       "    <tr>\n",
       "      <th>16</th>\n",
       "      <td>Karlstad</td>\n",
       "      <td>Värmlands län</td>\n",
       "      <td>61685</td>\n",
       "      <td>89245</td>\n",
       "    </tr>\n",
       "    <tr>\n",
       "      <th>6</th>\n",
       "      <td>Linköping</td>\n",
       "      <td>Östergötlands län</td>\n",
       "      <td>104232</td>\n",
       "      <td>152966</td>\n",
       "    </tr>\n",
       "    <tr>\n",
       "      <th>10</th>\n",
       "      <td>Lund</td>\n",
       "      <td>Skåne län</td>\n",
       "      <td>82800</td>\n",
       "      <td>116834</td>\n",
       "    </tr>\n",
       "    <tr>\n",
       "      <th>2</th>\n",
       "      <td>Malmö</td>\n",
       "      <td>Skåne län</td>\n",
       "      <td>280415</td>\n",
       "      <td>322574</td>\n",
       "    </tr>\n",
       "    <tr>\n",
       "      <th>9</th>\n",
       "      <td>Norrköping</td>\n",
       "      <td>Östergötlands län</td>\n",
       "      <td>87247</td>\n",
       "      <td>137035</td>\n",
       "    </tr>\n",
       "    <tr>\n",
       "      <th>0</th>\n",
       "      <td>Stockholm</td>\n",
       "      <td>Stockholms län</td>\n",
       "      <td>1372565</td>\n",
       "      <td>923516</td>\n",
       "    </tr>\n",
       "    <tr>\n",
       "      <th>15</th>\n",
       "      <td>Södertälje</td>\n",
       "      <td>Stockholms län</td>\n",
       "      <td>64619</td>\n",
       "      <td>93202</td>\n",
       "    </tr>\n",
       "    <tr>\n",
       "      <th>17</th>\n",
       "      <td>Täby</td>\n",
       "      <td>Stockholms län</td>\n",
       "      <td>61272</td>\n",
       "      <td>68281</td>\n",
       "    </tr>\n",
       "    <tr>\n",
       "      <th>11</th>\n",
       "      <td>Umeå</td>\n",
       "      <td>Västerbottens län</td>\n",
       "      <td>79594</td>\n",
       "      <td>120777</td>\n",
       "    </tr>\n",
       "    <tr>\n",
       "      <th>3</th>\n",
       "      <td>Uppsala</td>\n",
       "      <td>Uppsala län</td>\n",
       "      <td>140454</td>\n",
       "      <td>210126</td>\n",
       "    </tr>\n",
       "    <tr>\n",
       "      <th>4</th>\n",
       "      <td>Västerås</td>\n",
       "      <td>Västmanlands län</td>\n",
       "      <td>110877</td>\n",
       "      <td>145218</td>\n",
       "    </tr>\n",
       "    <tr>\n",
       "      <th>18</th>\n",
       "      <td>Växjö</td>\n",
       "      <td>Kronobergs län</td>\n",
       "      <td>60887</td>\n",
       "      <td>88108</td>\n",
       "    </tr>\n",
       "    <tr>\n",
       "      <th>5</th>\n",
       "      <td>Örebro</td>\n",
       "      <td>Örebro län</td>\n",
       "      <td>107038</td>\n",
       "      <td>144200</td>\n",
       "    </tr>\n",
       "  </tbody>\n",
       "</table>\n",
       "</div>"
      ],
      "text/plain": [
       "           stad                   lan  inv_ort  inv_kommun\n",
       "13        Borås  Västra Götalands län    66273      108488\n",
       "14   Eskilstuna     Södermanlands län    64679      102065\n",
       "12        Gävle        Gävleborgs län    71033       98877\n",
       "1      Göteborg  Västra Götalands län   549839      548190\n",
       "19     Halmstad          Hallands län    58577       96952\n",
       "7   Helsingborg             Skåne län    97122      137909\n",
       "8     Jönköping        Jönköpings län    89396      133310\n",
       "16     Karlstad         Värmlands län    61685       89245\n",
       "6     Linköping     Östergötlands län   104232      152966\n",
       "10         Lund             Skåne län    82800      116834\n",
       "2         Malmö             Skåne län   280415      322574\n",
       "9    Norrköping     Östergötlands län    87247      137035\n",
       "0     Stockholm        Stockholms län  1372565      923516\n",
       "15   Södertälje        Stockholms län    64619       93202\n",
       "17         Täby        Stockholms län    61272       68281\n",
       "11         Umeå     Västerbottens län    79594      120777\n",
       "3       Uppsala           Uppsala län   140454      210126\n",
       "4      Västerås      Västmanlands län   110877      145218\n",
       "18        Växjö        Kronobergs län    60887       88108\n",
       "5        Örebro            Örebro län   107038      144200"
      ]
     },
     "execution_count": 45,
     "metadata": {},
     "output_type": "execute_result"
    }
   ],
   "source": [
    "befolkning.sort_values('stad', ascending=True)"
   ]
  },
  {
   "cell_type": "markdown",
   "metadata": {},
   "source": [
    "För att sortera på två kolumner är det bara att lägga in en lista. I det här fallet sortera på `lan` och därefter per `inv_ort`."
   ]
  },
  {
   "cell_type": "code",
   "execution_count": 46,
   "metadata": {
    "collapsed": false
   },
   "outputs": [
    {
     "data": {
      "text/html": [
       "<div>\n",
       "<table border=\"1\" class=\"dataframe\">\n",
       "  <thead>\n",
       "    <tr style=\"text-align: right;\">\n",
       "      <th></th>\n",
       "      <th>stad</th>\n",
       "      <th>lan</th>\n",
       "      <th>inv_ort</th>\n",
       "      <th>inv_kommun</th>\n",
       "    </tr>\n",
       "  </thead>\n",
       "  <tbody>\n",
       "    <tr>\n",
       "      <th>6</th>\n",
       "      <td>Linköping</td>\n",
       "      <td>Östergötlands län</td>\n",
       "      <td>104232</td>\n",
       "      <td>152966</td>\n",
       "    </tr>\n",
       "    <tr>\n",
       "      <th>9</th>\n",
       "      <td>Norrköping</td>\n",
       "      <td>Östergötlands län</td>\n",
       "      <td>87247</td>\n",
       "      <td>137035</td>\n",
       "    </tr>\n",
       "    <tr>\n",
       "      <th>5</th>\n",
       "      <td>Örebro</td>\n",
       "      <td>Örebro län</td>\n",
       "      <td>107038</td>\n",
       "      <td>144200</td>\n",
       "    </tr>\n",
       "    <tr>\n",
       "      <th>1</th>\n",
       "      <td>Göteborg</td>\n",
       "      <td>Västra Götalands län</td>\n",
       "      <td>549839</td>\n",
       "      <td>548190</td>\n",
       "    </tr>\n",
       "    <tr>\n",
       "      <th>13</th>\n",
       "      <td>Borås</td>\n",
       "      <td>Västra Götalands län</td>\n",
       "      <td>66273</td>\n",
       "      <td>108488</td>\n",
       "    </tr>\n",
       "    <tr>\n",
       "      <th>4</th>\n",
       "      <td>Västerås</td>\n",
       "      <td>Västmanlands län</td>\n",
       "      <td>110877</td>\n",
       "      <td>145218</td>\n",
       "    </tr>\n",
       "    <tr>\n",
       "      <th>11</th>\n",
       "      <td>Umeå</td>\n",
       "      <td>Västerbottens län</td>\n",
       "      <td>79594</td>\n",
       "      <td>120777</td>\n",
       "    </tr>\n",
       "    <tr>\n",
       "      <th>16</th>\n",
       "      <td>Karlstad</td>\n",
       "      <td>Värmlands län</td>\n",
       "      <td>61685</td>\n",
       "      <td>89245</td>\n",
       "    </tr>\n",
       "    <tr>\n",
       "      <th>3</th>\n",
       "      <td>Uppsala</td>\n",
       "      <td>Uppsala län</td>\n",
       "      <td>140454</td>\n",
       "      <td>210126</td>\n",
       "    </tr>\n",
       "    <tr>\n",
       "      <th>14</th>\n",
       "      <td>Eskilstuna</td>\n",
       "      <td>Södermanlands län</td>\n",
       "      <td>64679</td>\n",
       "      <td>102065</td>\n",
       "    </tr>\n",
       "    <tr>\n",
       "      <th>0</th>\n",
       "      <td>Stockholm</td>\n",
       "      <td>Stockholms län</td>\n",
       "      <td>1372565</td>\n",
       "      <td>923516</td>\n",
       "    </tr>\n",
       "    <tr>\n",
       "      <th>15</th>\n",
       "      <td>Södertälje</td>\n",
       "      <td>Stockholms län</td>\n",
       "      <td>64619</td>\n",
       "      <td>93202</td>\n",
       "    </tr>\n",
       "    <tr>\n",
       "      <th>17</th>\n",
       "      <td>Täby</td>\n",
       "      <td>Stockholms län</td>\n",
       "      <td>61272</td>\n",
       "      <td>68281</td>\n",
       "    </tr>\n",
       "    <tr>\n",
       "      <th>2</th>\n",
       "      <td>Malmö</td>\n",
       "      <td>Skåne län</td>\n",
       "      <td>280415</td>\n",
       "      <td>322574</td>\n",
       "    </tr>\n",
       "    <tr>\n",
       "      <th>7</th>\n",
       "      <td>Helsingborg</td>\n",
       "      <td>Skåne län</td>\n",
       "      <td>97122</td>\n",
       "      <td>137909</td>\n",
       "    </tr>\n",
       "    <tr>\n",
       "      <th>10</th>\n",
       "      <td>Lund</td>\n",
       "      <td>Skåne län</td>\n",
       "      <td>82800</td>\n",
       "      <td>116834</td>\n",
       "    </tr>\n",
       "    <tr>\n",
       "      <th>18</th>\n",
       "      <td>Växjö</td>\n",
       "      <td>Kronobergs län</td>\n",
       "      <td>60887</td>\n",
       "      <td>88108</td>\n",
       "    </tr>\n",
       "    <tr>\n",
       "      <th>8</th>\n",
       "      <td>Jönköping</td>\n",
       "      <td>Jönköpings län</td>\n",
       "      <td>89396</td>\n",
       "      <td>133310</td>\n",
       "    </tr>\n",
       "    <tr>\n",
       "      <th>19</th>\n",
       "      <td>Halmstad</td>\n",
       "      <td>Hallands län</td>\n",
       "      <td>58577</td>\n",
       "      <td>96952</td>\n",
       "    </tr>\n",
       "    <tr>\n",
       "      <th>12</th>\n",
       "      <td>Gävle</td>\n",
       "      <td>Gävleborgs län</td>\n",
       "      <td>71033</td>\n",
       "      <td>98877</td>\n",
       "    </tr>\n",
       "  </tbody>\n",
       "</table>\n",
       "</div>"
      ],
      "text/plain": [
       "           stad                   lan  inv_ort  inv_kommun\n",
       "6     Linköping     Östergötlands län   104232      152966\n",
       "9    Norrköping     Östergötlands län    87247      137035\n",
       "5        Örebro            Örebro län   107038      144200\n",
       "1      Göteborg  Västra Götalands län   549839      548190\n",
       "13        Borås  Västra Götalands län    66273      108488\n",
       "4      Västerås      Västmanlands län   110877      145218\n",
       "11         Umeå     Västerbottens län    79594      120777\n",
       "16     Karlstad         Värmlands län    61685       89245\n",
       "3       Uppsala           Uppsala län   140454      210126\n",
       "14   Eskilstuna     Södermanlands län    64679      102065\n",
       "0     Stockholm        Stockholms län  1372565      923516\n",
       "15   Södertälje        Stockholms län    64619       93202\n",
       "17         Täby        Stockholms län    61272       68281\n",
       "2         Malmö             Skåne län   280415      322574\n",
       "7   Helsingborg             Skåne län    97122      137909\n",
       "10         Lund             Skåne län    82800      116834\n",
       "18        Växjö        Kronobergs län    60887       88108\n",
       "8     Jönköping        Jönköpings län    89396      133310\n",
       "19     Halmstad          Hallands län    58577       96952\n",
       "12        Gävle        Gävleborgs län    71033       98877"
      ]
     },
     "execution_count": 46,
     "metadata": {},
     "output_type": "execute_result"
    }
   ],
   "source": [
    "befolkning.sort_values(['lan', 'inv_ort'], ascending=False)"
   ]
  },
  {
   "cell_type": "markdown",
   "metadata": {},
   "source": [
    "Om vi vill ha olika sorteringsordning, dvs länen i bokstavsordning och därefter fallande enligt invånarantal kan vi skicka in en lista även för sorteringen."
   ]
  },
  {
   "cell_type": "code",
   "execution_count": 47,
   "metadata": {
    "collapsed": false,
    "scrolled": false
   },
   "outputs": [
    {
     "data": {
      "text/html": [
       "<div>\n",
       "<table border=\"1\" class=\"dataframe\">\n",
       "  <thead>\n",
       "    <tr style=\"text-align: right;\">\n",
       "      <th></th>\n",
       "      <th>stad</th>\n",
       "      <th>lan</th>\n",
       "      <th>inv_ort</th>\n",
       "      <th>inv_kommun</th>\n",
       "    </tr>\n",
       "  </thead>\n",
       "  <tbody>\n",
       "    <tr>\n",
       "      <th>12</th>\n",
       "      <td>Gävle</td>\n",
       "      <td>Gävleborgs län</td>\n",
       "      <td>71033</td>\n",
       "      <td>98877</td>\n",
       "    </tr>\n",
       "    <tr>\n",
       "      <th>19</th>\n",
       "      <td>Halmstad</td>\n",
       "      <td>Hallands län</td>\n",
       "      <td>58577</td>\n",
       "      <td>96952</td>\n",
       "    </tr>\n",
       "    <tr>\n",
       "      <th>8</th>\n",
       "      <td>Jönköping</td>\n",
       "      <td>Jönköpings län</td>\n",
       "      <td>89396</td>\n",
       "      <td>133310</td>\n",
       "    </tr>\n",
       "    <tr>\n",
       "      <th>18</th>\n",
       "      <td>Växjö</td>\n",
       "      <td>Kronobergs län</td>\n",
       "      <td>60887</td>\n",
       "      <td>88108</td>\n",
       "    </tr>\n",
       "    <tr>\n",
       "      <th>2</th>\n",
       "      <td>Malmö</td>\n",
       "      <td>Skåne län</td>\n",
       "      <td>280415</td>\n",
       "      <td>322574</td>\n",
       "    </tr>\n",
       "    <tr>\n",
       "      <th>7</th>\n",
       "      <td>Helsingborg</td>\n",
       "      <td>Skåne län</td>\n",
       "      <td>97122</td>\n",
       "      <td>137909</td>\n",
       "    </tr>\n",
       "    <tr>\n",
       "      <th>10</th>\n",
       "      <td>Lund</td>\n",
       "      <td>Skåne län</td>\n",
       "      <td>82800</td>\n",
       "      <td>116834</td>\n",
       "    </tr>\n",
       "    <tr>\n",
       "      <th>0</th>\n",
       "      <td>Stockholm</td>\n",
       "      <td>Stockholms län</td>\n",
       "      <td>1372565</td>\n",
       "      <td>923516</td>\n",
       "    </tr>\n",
       "    <tr>\n",
       "      <th>15</th>\n",
       "      <td>Södertälje</td>\n",
       "      <td>Stockholms län</td>\n",
       "      <td>64619</td>\n",
       "      <td>93202</td>\n",
       "    </tr>\n",
       "    <tr>\n",
       "      <th>17</th>\n",
       "      <td>Täby</td>\n",
       "      <td>Stockholms län</td>\n",
       "      <td>61272</td>\n",
       "      <td>68281</td>\n",
       "    </tr>\n",
       "    <tr>\n",
       "      <th>14</th>\n",
       "      <td>Eskilstuna</td>\n",
       "      <td>Södermanlands län</td>\n",
       "      <td>64679</td>\n",
       "      <td>102065</td>\n",
       "    </tr>\n",
       "    <tr>\n",
       "      <th>3</th>\n",
       "      <td>Uppsala</td>\n",
       "      <td>Uppsala län</td>\n",
       "      <td>140454</td>\n",
       "      <td>210126</td>\n",
       "    </tr>\n",
       "    <tr>\n",
       "      <th>16</th>\n",
       "      <td>Karlstad</td>\n",
       "      <td>Värmlands län</td>\n",
       "      <td>61685</td>\n",
       "      <td>89245</td>\n",
       "    </tr>\n",
       "    <tr>\n",
       "      <th>11</th>\n",
       "      <td>Umeå</td>\n",
       "      <td>Västerbottens län</td>\n",
       "      <td>79594</td>\n",
       "      <td>120777</td>\n",
       "    </tr>\n",
       "    <tr>\n",
       "      <th>4</th>\n",
       "      <td>Västerås</td>\n",
       "      <td>Västmanlands län</td>\n",
       "      <td>110877</td>\n",
       "      <td>145218</td>\n",
       "    </tr>\n",
       "    <tr>\n",
       "      <th>1</th>\n",
       "      <td>Göteborg</td>\n",
       "      <td>Västra Götalands län</td>\n",
       "      <td>549839</td>\n",
       "      <td>548190</td>\n",
       "    </tr>\n",
       "    <tr>\n",
       "      <th>13</th>\n",
       "      <td>Borås</td>\n",
       "      <td>Västra Götalands län</td>\n",
       "      <td>66273</td>\n",
       "      <td>108488</td>\n",
       "    </tr>\n",
       "    <tr>\n",
       "      <th>5</th>\n",
       "      <td>Örebro</td>\n",
       "      <td>Örebro län</td>\n",
       "      <td>107038</td>\n",
       "      <td>144200</td>\n",
       "    </tr>\n",
       "    <tr>\n",
       "      <th>6</th>\n",
       "      <td>Linköping</td>\n",
       "      <td>Östergötlands län</td>\n",
       "      <td>104232</td>\n",
       "      <td>152966</td>\n",
       "    </tr>\n",
       "    <tr>\n",
       "      <th>9</th>\n",
       "      <td>Norrköping</td>\n",
       "      <td>Östergötlands län</td>\n",
       "      <td>87247</td>\n",
       "      <td>137035</td>\n",
       "    </tr>\n",
       "  </tbody>\n",
       "</table>\n",
       "</div>"
      ],
      "text/plain": [
       "           stad                   lan  inv_ort  inv_kommun\n",
       "12        Gävle        Gävleborgs län    71033       98877\n",
       "19     Halmstad          Hallands län    58577       96952\n",
       "8     Jönköping        Jönköpings län    89396      133310\n",
       "18        Växjö        Kronobergs län    60887       88108\n",
       "2         Malmö             Skåne län   280415      322574\n",
       "7   Helsingborg             Skåne län    97122      137909\n",
       "10         Lund             Skåne län    82800      116834\n",
       "0     Stockholm        Stockholms län  1372565      923516\n",
       "15   Södertälje        Stockholms län    64619       93202\n",
       "17         Täby        Stockholms län    61272       68281\n",
       "14   Eskilstuna     Södermanlands län    64679      102065\n",
       "3       Uppsala           Uppsala län   140454      210126\n",
       "16     Karlstad         Värmlands län    61685       89245\n",
       "11         Umeå     Västerbottens län    79594      120777\n",
       "4      Västerås      Västmanlands län   110877      145218\n",
       "1      Göteborg  Västra Götalands län   549839      548190\n",
       "13        Borås  Västra Götalands län    66273      108488\n",
       "5        Örebro            Örebro län   107038      144200\n",
       "6     Linköping     Östergötlands län   104232      152966\n",
       "9    Norrköping     Östergötlands län    87247      137035"
      ]
     },
     "execution_count": 47,
     "metadata": {},
     "output_type": "execute_result"
    }
   ],
   "source": [
    "befolkning.sort_values(['lan', 'inv_ort'], ascending=[True, False])"
   ]
  },
  {
   "cell_type": "markdown",
   "metadata": {},
   "source": [
    "### Summary statistics and column operations\n",
    "Pandas erbjuder en mängd funktioner out of the box men också möjligheten att skapa egna funktioner och applicera dessa på en eller fler kolumner. Se nedan exempel på vanliga funktioner."
   ]
  },
  {
   "cell_type": "code",
   "execution_count": 48,
   "metadata": {
    "collapsed": false
   },
   "outputs": [
    {
     "data": {
      "text/plain": [
       "2665420"
      ]
     },
     "execution_count": 48,
     "metadata": {},
     "output_type": "execute_result"
    }
   ],
   "source": [
    "befolkning[f]['inv_ort'].sum()"
   ]
  },
  {
   "cell_type": "markdown",
   "metadata": {},
   "source": [
    "Om man vill göra flera operationer på en kolumn kan det vara smidigare att deklarera kolumner till en ny variabel."
   ]
  },
  {
   "cell_type": "code",
   "execution_count": 51,
   "metadata": {
    "collapsed": false
   },
   "outputs": [
    {
     "name": "stdout",
     "output_type": "stream",
     "text": [
      "380774.28571428574\n",
      "7\n",
      "104232\n",
      "1372565\n",
      "140454.0\n"
     ]
    }
   ],
   "source": [
    "x = befolkning[f]['inv_ort']\n",
    "\n",
    "print(x.mean())\n",
    "print(x.count())\n",
    "print(x.min())\n",
    "print(x.max())\n",
    "print(x.median())"
   ]
  },
  {
   "cell_type": "markdown",
   "metadata": {},
   "source": [
    "Pandas har också funktionen `.describe()` vilket ger en bra överblick över hur datat ser ut."
   ]
  },
  {
   "cell_type": "code",
   "execution_count": 52,
   "metadata": {
    "collapsed": false
   },
   "outputs": [
    {
     "data": {
      "text/html": [
       "<div>\n",
       "<table border=\"1\" class=\"dataframe\">\n",
       "  <thead>\n",
       "    <tr style=\"text-align: right;\">\n",
       "      <th></th>\n",
       "      <th>inv_ort</th>\n",
       "      <th>inv_kommun</th>\n",
       "    </tr>\n",
       "  </thead>\n",
       "  <tbody>\n",
       "    <tr>\n",
       "      <th>count</th>\n",
       "      <td>2.000000e+01</td>\n",
       "      <td>20.000000</td>\n",
       "    </tr>\n",
       "    <tr>\n",
       "      <th>mean</th>\n",
       "      <td>1.805302e+05</td>\n",
       "      <td>191893.650000</td>\n",
       "    </tr>\n",
       "    <tr>\n",
       "      <th>std</th>\n",
       "      <td>3.024576e+05</td>\n",
       "      <td>203219.380076</td>\n",
       "    </tr>\n",
       "    <tr>\n",
       "      <th>min</th>\n",
       "      <td>5.857700e+04</td>\n",
       "      <td>68281.000000</td>\n",
       "    </tr>\n",
       "    <tr>\n",
       "      <th>25%</th>\n",
       "      <td>6.466400e+04</td>\n",
       "      <td>98395.750000</td>\n",
       "    </tr>\n",
       "    <tr>\n",
       "      <th>50%</th>\n",
       "      <td>8.502350e+04</td>\n",
       "      <td>127043.500000</td>\n",
       "    </tr>\n",
       "    <tr>\n",
       "      <th>75%</th>\n",
       "      <td>1.079978e+05</td>\n",
       "      <td>147155.000000</td>\n",
       "    </tr>\n",
       "    <tr>\n",
       "      <th>max</th>\n",
       "      <td>1.372565e+06</td>\n",
       "      <td>923516.000000</td>\n",
       "    </tr>\n",
       "  </tbody>\n",
       "</table>\n",
       "</div>"
      ],
      "text/plain": [
       "            inv_ort     inv_kommun\n",
       "count  2.000000e+01      20.000000\n",
       "mean   1.805302e+05  191893.650000\n",
       "std    3.024576e+05  203219.380076\n",
       "min    5.857700e+04   68281.000000\n",
       "25%    6.466400e+04   98395.750000\n",
       "50%    8.502350e+04  127043.500000\n",
       "75%    1.079978e+05  147155.000000\n",
       "max    1.372565e+06  923516.000000"
      ]
     },
     "execution_count": 52,
     "metadata": {},
     "output_type": "execute_result"
    }
   ],
   "source": [
    "befolkning.describe()"
   ]
  },
  {
   "cell_type": "markdown",
   "metadata": {},
   "source": [
    "Det finns också funktioner för att titta på kategoriska värden."
   ]
  },
  {
   "cell_type": "code",
   "execution_count": 53,
   "metadata": {
    "collapsed": false
   },
   "outputs": [
    {
     "data": {
      "text/plain": [
       "Stockholms län          3\n",
       "Skåne län               3\n",
       "Västra Götalands län    2\n",
       "Östergötlands län       2\n",
       "Uppsala län             1\n",
       "Västmanlands län        1\n",
       "Örebro län              1\n",
       "Värmlands län           1\n",
       "Kronobergs län          1\n",
       "Hallands län            1\n",
       "Västerbottens län       1\n",
       "Gävleborgs län          1\n",
       "Södermanlands län       1\n",
       "Jönköpings län          1\n",
       "Name: lan, dtype: int64"
      ]
     },
     "execution_count": 53,
     "metadata": {},
     "output_type": "execute_result"
    }
   ],
   "source": [
    "befolkning['lan'].value_counts()"
   ]
  },
  {
   "cell_type": "markdown",
   "metadata": {},
   "source": [
    "Följande tabell visar några av de vanligaste standardfunktionerna.\n",
    "\n",
    "<img src=\"./assets/images/kolumnfunktioner.png\" width=\"600\" align=\"left\">"
   ]
  },
  {
   "cell_type": "markdown",
   "metadata": {
    "collapsed": true
   },
   "source": [
    "### Hantering av null-värden\n",
    "Ett vanligt problem inom analys är avsaknad av värden och hur det ska hanteras. Pandas har stöd för det mesta som behövs inom detta. Vi introducerar ett par null-värden i vårt dataset."
   ]
  },
  {
   "cell_type": "code",
   "execution_count": 54,
   "metadata": {
    "collapsed": false
   },
   "outputs": [],
   "source": [
    "null_df = befolkning\n",
    "\n",
    "null_df.ix[2:2, 'inv_ort'] = None\n",
    "null_df.ix[8:8, 'inv_kommun'] = None"
   ]
  },
  {
   "cell_type": "code",
   "execution_count": 55,
   "metadata": {
    "collapsed": false
   },
   "outputs": [
    {
     "data": {
      "text/html": [
       "<div>\n",
       "<table border=\"1\" class=\"dataframe\">\n",
       "  <thead>\n",
       "    <tr style=\"text-align: right;\">\n",
       "      <th></th>\n",
       "      <th>stad</th>\n",
       "      <th>lan</th>\n",
       "      <th>inv_ort</th>\n",
       "      <th>inv_kommun</th>\n",
       "    </tr>\n",
       "  </thead>\n",
       "  <tbody>\n",
       "    <tr>\n",
       "      <th>0</th>\n",
       "      <td>Stockholm</td>\n",
       "      <td>Stockholms län</td>\n",
       "      <td>1372565.0</td>\n",
       "      <td>923516.0</td>\n",
       "    </tr>\n",
       "    <tr>\n",
       "      <th>1</th>\n",
       "      <td>Göteborg</td>\n",
       "      <td>Västra Götalands län</td>\n",
       "      <td>549839.0</td>\n",
       "      <td>548190.0</td>\n",
       "    </tr>\n",
       "    <tr>\n",
       "      <th>2</th>\n",
       "      <td>Malmö</td>\n",
       "      <td>Skåne län</td>\n",
       "      <td>NaN</td>\n",
       "      <td>322574.0</td>\n",
       "    </tr>\n",
       "    <tr>\n",
       "      <th>3</th>\n",
       "      <td>Uppsala</td>\n",
       "      <td>Uppsala län</td>\n",
       "      <td>140454.0</td>\n",
       "      <td>210126.0</td>\n",
       "    </tr>\n",
       "    <tr>\n",
       "      <th>4</th>\n",
       "      <td>Västerås</td>\n",
       "      <td>Västmanlands län</td>\n",
       "      <td>110877.0</td>\n",
       "      <td>145218.0</td>\n",
       "    </tr>\n",
       "    <tr>\n",
       "      <th>5</th>\n",
       "      <td>Örebro</td>\n",
       "      <td>Örebro län</td>\n",
       "      <td>107038.0</td>\n",
       "      <td>144200.0</td>\n",
       "    </tr>\n",
       "    <tr>\n",
       "      <th>6</th>\n",
       "      <td>Linköping</td>\n",
       "      <td>Östergötlands län</td>\n",
       "      <td>104232.0</td>\n",
       "      <td>152966.0</td>\n",
       "    </tr>\n",
       "    <tr>\n",
       "      <th>7</th>\n",
       "      <td>Helsingborg</td>\n",
       "      <td>Skåne län</td>\n",
       "      <td>97122.0</td>\n",
       "      <td>137909.0</td>\n",
       "    </tr>\n",
       "    <tr>\n",
       "      <th>8</th>\n",
       "      <td>Jönköping</td>\n",
       "      <td>Jönköpings län</td>\n",
       "      <td>89396.0</td>\n",
       "      <td>NaN</td>\n",
       "    </tr>\n",
       "    <tr>\n",
       "      <th>9</th>\n",
       "      <td>Norrköping</td>\n",
       "      <td>Östergötlands län</td>\n",
       "      <td>87247.0</td>\n",
       "      <td>137035.0</td>\n",
       "    </tr>\n",
       "    <tr>\n",
       "      <th>10</th>\n",
       "      <td>Lund</td>\n",
       "      <td>Skåne län</td>\n",
       "      <td>82800.0</td>\n",
       "      <td>116834.0</td>\n",
       "    </tr>\n",
       "    <tr>\n",
       "      <th>11</th>\n",
       "      <td>Umeå</td>\n",
       "      <td>Västerbottens län</td>\n",
       "      <td>79594.0</td>\n",
       "      <td>120777.0</td>\n",
       "    </tr>\n",
       "    <tr>\n",
       "      <th>12</th>\n",
       "      <td>Gävle</td>\n",
       "      <td>Gävleborgs län</td>\n",
       "      <td>71033.0</td>\n",
       "      <td>98877.0</td>\n",
       "    </tr>\n",
       "    <tr>\n",
       "      <th>13</th>\n",
       "      <td>Borås</td>\n",
       "      <td>Västra Götalands län</td>\n",
       "      <td>66273.0</td>\n",
       "      <td>108488.0</td>\n",
       "    </tr>\n",
       "    <tr>\n",
       "      <th>14</th>\n",
       "      <td>Eskilstuna</td>\n",
       "      <td>Södermanlands län</td>\n",
       "      <td>64679.0</td>\n",
       "      <td>102065.0</td>\n",
       "    </tr>\n",
       "    <tr>\n",
       "      <th>15</th>\n",
       "      <td>Södertälje</td>\n",
       "      <td>Stockholms län</td>\n",
       "      <td>64619.0</td>\n",
       "      <td>93202.0</td>\n",
       "    </tr>\n",
       "    <tr>\n",
       "      <th>16</th>\n",
       "      <td>Karlstad</td>\n",
       "      <td>Värmlands län</td>\n",
       "      <td>61685.0</td>\n",
       "      <td>89245.0</td>\n",
       "    </tr>\n",
       "    <tr>\n",
       "      <th>17</th>\n",
       "      <td>Täby</td>\n",
       "      <td>Stockholms län</td>\n",
       "      <td>61272.0</td>\n",
       "      <td>68281.0</td>\n",
       "    </tr>\n",
       "    <tr>\n",
       "      <th>18</th>\n",
       "      <td>Växjö</td>\n",
       "      <td>Kronobergs län</td>\n",
       "      <td>60887.0</td>\n",
       "      <td>88108.0</td>\n",
       "    </tr>\n",
       "    <tr>\n",
       "      <th>19</th>\n",
       "      <td>Halmstad</td>\n",
       "      <td>Hallands län</td>\n",
       "      <td>58577.0</td>\n",
       "      <td>96952.0</td>\n",
       "    </tr>\n",
       "  </tbody>\n",
       "</table>\n",
       "</div>"
      ],
      "text/plain": [
       "           stad                   lan    inv_ort  inv_kommun\n",
       "0     Stockholm        Stockholms län  1372565.0    923516.0\n",
       "1      Göteborg  Västra Götalands län   549839.0    548190.0\n",
       "2         Malmö             Skåne län        NaN    322574.0\n",
       "3       Uppsala           Uppsala län   140454.0    210126.0\n",
       "4      Västerås      Västmanlands län   110877.0    145218.0\n",
       "5        Örebro            Örebro län   107038.0    144200.0\n",
       "6     Linköping     Östergötlands län   104232.0    152966.0\n",
       "7   Helsingborg             Skåne län    97122.0    137909.0\n",
       "8     Jönköping        Jönköpings län    89396.0         NaN\n",
       "9    Norrköping     Östergötlands län    87247.0    137035.0\n",
       "10         Lund             Skåne län    82800.0    116834.0\n",
       "11         Umeå     Västerbottens län    79594.0    120777.0\n",
       "12        Gävle        Gävleborgs län    71033.0     98877.0\n",
       "13        Borås  Västra Götalands län    66273.0    108488.0\n",
       "14   Eskilstuna     Södermanlands län    64679.0    102065.0\n",
       "15   Södertälje        Stockholms län    64619.0     93202.0\n",
       "16     Karlstad         Värmlands län    61685.0     89245.0\n",
       "17         Täby        Stockholms län    61272.0     68281.0\n",
       "18        Växjö        Kronobergs län    60887.0     88108.0\n",
       "19     Halmstad          Hallands län    58577.0     96952.0"
      ]
     },
     "execution_count": 55,
     "metadata": {},
     "output_type": "execute_result"
    }
   ],
   "source": [
    "null_df"
   ]
  },
  {
   "cell_type": "markdown",
   "metadata": {},
   "source": [
    "För att hitta rader med null-värde kan funktionen `.isnull()`användas. Det returnerar en matris med True/False som går att använda för att filtrera ut det man vill se. För att hitta nullvärdet i kolumnen `inv_ort` görs exempelvis så här."
   ]
  },
  {
   "cell_type": "code",
   "execution_count": 56,
   "metadata": {
    "collapsed": false
   },
   "outputs": [
    {
     "data": {
      "text/html": [
       "<div>\n",
       "<table border=\"1\" class=\"dataframe\">\n",
       "  <thead>\n",
       "    <tr style=\"text-align: right;\">\n",
       "      <th></th>\n",
       "      <th>stad</th>\n",
       "      <th>lan</th>\n",
       "      <th>inv_ort</th>\n",
       "      <th>inv_kommun</th>\n",
       "    </tr>\n",
       "  </thead>\n",
       "  <tbody>\n",
       "    <tr>\n",
       "      <th>2</th>\n",
       "      <td>Malmö</td>\n",
       "      <td>Skåne län</td>\n",
       "      <td>NaN</td>\n",
       "      <td>322574.0</td>\n",
       "    </tr>\n",
       "  </tbody>\n",
       "</table>\n",
       "</div>"
      ],
      "text/plain": [
       "    stad        lan  inv_ort  inv_kommun\n",
       "2  Malmö  Skåne län      NaN    322574.0"
      ]
     },
     "execution_count": 56,
     "metadata": {},
     "output_type": "execute_result"
    }
   ],
   "source": [
    "f = null_df['inv_ort'].isnull()\n",
    "\n",
    "null_df[f]"
   ]
  },
  {
   "cell_type": "markdown",
   "metadata": {},
   "source": [
    "För att leta efter rader eller klumner där något värde är null kan man använda `.isnull()` i kombination med `.any()`. Här måste man ange vilken axel den ska leta i. Se skillnaden nedan. Först hittar vi kolumner med minst ett null-värde."
   ]
  },
  {
   "cell_type": "code",
   "execution_count": 57,
   "metadata": {
    "collapsed": false
   },
   "outputs": [
    {
     "data": {
      "text/plain": [
       "stad          False\n",
       "lan           False\n",
       "inv_ort        True\n",
       "inv_kommun     True\n",
       "dtype: bool"
      ]
     },
     "execution_count": 57,
     "metadata": {},
     "output_type": "execute_result"
    }
   ],
   "source": [
    "f = null_df.isnull().any(axis=0)\n",
    "f"
   ]
  },
  {
   "cell_type": "code",
   "execution_count": 58,
   "metadata": {
    "collapsed": false
   },
   "outputs": [
    {
     "data": {
      "text/html": [
       "<div>\n",
       "<table border=\"1\" class=\"dataframe\">\n",
       "  <thead>\n",
       "    <tr style=\"text-align: right;\">\n",
       "      <th></th>\n",
       "      <th>inv_ort</th>\n",
       "      <th>inv_kommun</th>\n",
       "    </tr>\n",
       "  </thead>\n",
       "  <tbody>\n",
       "    <tr>\n",
       "      <th>0</th>\n",
       "      <td>1372565.0</td>\n",
       "      <td>923516.0</td>\n",
       "    </tr>\n",
       "    <tr>\n",
       "      <th>1</th>\n",
       "      <td>549839.0</td>\n",
       "      <td>548190.0</td>\n",
       "    </tr>\n",
       "    <tr>\n",
       "      <th>2</th>\n",
       "      <td>NaN</td>\n",
       "      <td>322574.0</td>\n",
       "    </tr>\n",
       "    <tr>\n",
       "      <th>3</th>\n",
       "      <td>140454.0</td>\n",
       "      <td>210126.0</td>\n",
       "    </tr>\n",
       "    <tr>\n",
       "      <th>4</th>\n",
       "      <td>110877.0</td>\n",
       "      <td>145218.0</td>\n",
       "    </tr>\n",
       "    <tr>\n",
       "      <th>5</th>\n",
       "      <td>107038.0</td>\n",
       "      <td>144200.0</td>\n",
       "    </tr>\n",
       "    <tr>\n",
       "      <th>6</th>\n",
       "      <td>104232.0</td>\n",
       "      <td>152966.0</td>\n",
       "    </tr>\n",
       "    <tr>\n",
       "      <th>7</th>\n",
       "      <td>97122.0</td>\n",
       "      <td>137909.0</td>\n",
       "    </tr>\n",
       "    <tr>\n",
       "      <th>8</th>\n",
       "      <td>89396.0</td>\n",
       "      <td>NaN</td>\n",
       "    </tr>\n",
       "    <tr>\n",
       "      <th>9</th>\n",
       "      <td>87247.0</td>\n",
       "      <td>137035.0</td>\n",
       "    </tr>\n",
       "    <tr>\n",
       "      <th>10</th>\n",
       "      <td>82800.0</td>\n",
       "      <td>116834.0</td>\n",
       "    </tr>\n",
       "    <tr>\n",
       "      <th>11</th>\n",
       "      <td>79594.0</td>\n",
       "      <td>120777.0</td>\n",
       "    </tr>\n",
       "    <tr>\n",
       "      <th>12</th>\n",
       "      <td>71033.0</td>\n",
       "      <td>98877.0</td>\n",
       "    </tr>\n",
       "    <tr>\n",
       "      <th>13</th>\n",
       "      <td>66273.0</td>\n",
       "      <td>108488.0</td>\n",
       "    </tr>\n",
       "    <tr>\n",
       "      <th>14</th>\n",
       "      <td>64679.0</td>\n",
       "      <td>102065.0</td>\n",
       "    </tr>\n",
       "    <tr>\n",
       "      <th>15</th>\n",
       "      <td>64619.0</td>\n",
       "      <td>93202.0</td>\n",
       "    </tr>\n",
       "    <tr>\n",
       "      <th>16</th>\n",
       "      <td>61685.0</td>\n",
       "      <td>89245.0</td>\n",
       "    </tr>\n",
       "    <tr>\n",
       "      <th>17</th>\n",
       "      <td>61272.0</td>\n",
       "      <td>68281.0</td>\n",
       "    </tr>\n",
       "    <tr>\n",
       "      <th>18</th>\n",
       "      <td>60887.0</td>\n",
       "      <td>88108.0</td>\n",
       "    </tr>\n",
       "    <tr>\n",
       "      <th>19</th>\n",
       "      <td>58577.0</td>\n",
       "      <td>96952.0</td>\n",
       "    </tr>\n",
       "  </tbody>\n",
       "</table>\n",
       "</div>"
      ],
      "text/plain": [
       "      inv_ort  inv_kommun\n",
       "0   1372565.0    923516.0\n",
       "1    549839.0    548190.0\n",
       "2         NaN    322574.0\n",
       "3    140454.0    210126.0\n",
       "4    110877.0    145218.0\n",
       "5    107038.0    144200.0\n",
       "6    104232.0    152966.0\n",
       "7     97122.0    137909.0\n",
       "8     89396.0         NaN\n",
       "9     87247.0    137035.0\n",
       "10    82800.0    116834.0\n",
       "11    79594.0    120777.0\n",
       "12    71033.0     98877.0\n",
       "13    66273.0    108488.0\n",
       "14    64679.0    102065.0\n",
       "15    64619.0     93202.0\n",
       "16    61685.0     89245.0\n",
       "17    61272.0     68281.0\n",
       "18    60887.0     88108.0\n",
       "19    58577.0     96952.0"
      ]
     },
     "execution_count": 58,
     "metadata": {},
     "output_type": "execute_result"
    }
   ],
   "source": [
    "null_df.ix[:,f]"
   ]
  },
  {
   "cell_type": "code",
   "execution_count": 59,
   "metadata": {
    "collapsed": false
   },
   "outputs": [
    {
     "data": {
      "text/plain": [
       "0     False\n",
       "1     False\n",
       "2      True\n",
       "3     False\n",
       "4     False\n",
       "5     False\n",
       "6     False\n",
       "7     False\n",
       "8      True\n",
       "9     False\n",
       "10    False\n",
       "11    False\n",
       "12    False\n",
       "13    False\n",
       "14    False\n",
       "15    False\n",
       "16    False\n",
       "17    False\n",
       "18    False\n",
       "19    False\n",
       "dtype: bool"
      ]
     },
     "execution_count": 59,
     "metadata": {},
     "output_type": "execute_result"
    }
   ],
   "source": [
    "f = null_df.isnull().any(axis=1)\n",
    "f"
   ]
  },
  {
   "cell_type": "code",
   "execution_count": 60,
   "metadata": {
    "collapsed": false
   },
   "outputs": [
    {
     "data": {
      "text/html": [
       "<div>\n",
       "<table border=\"1\" class=\"dataframe\">\n",
       "  <thead>\n",
       "    <tr style=\"text-align: right;\">\n",
       "      <th></th>\n",
       "      <th>stad</th>\n",
       "      <th>lan</th>\n",
       "      <th>inv_ort</th>\n",
       "      <th>inv_kommun</th>\n",
       "    </tr>\n",
       "  </thead>\n",
       "  <tbody>\n",
       "    <tr>\n",
       "      <th>2</th>\n",
       "      <td>Malmö</td>\n",
       "      <td>Skåne län</td>\n",
       "      <td>NaN</td>\n",
       "      <td>322574.0</td>\n",
       "    </tr>\n",
       "    <tr>\n",
       "      <th>8</th>\n",
       "      <td>Jönköping</td>\n",
       "      <td>Jönköpings län</td>\n",
       "      <td>89396.0</td>\n",
       "      <td>NaN</td>\n",
       "    </tr>\n",
       "  </tbody>\n",
       "</table>\n",
       "</div>"
      ],
      "text/plain": [
       "        stad             lan  inv_ort  inv_kommun\n",
       "2      Malmö       Skåne län      NaN    322574.0\n",
       "8  Jönköping  Jönköpings län  89396.0         NaN"
      ]
     },
     "execution_count": 60,
     "metadata": {},
     "output_type": "execute_result"
    }
   ],
   "source": [
    "null_df.ix[f, :]"
   ]
  },
  {
   "cell_type": "markdown",
   "metadata": {},
   "source": [
    "För att hantera null-värde finns flera strategier. Den enklaste är att ta bort de rader/kolumner som innehåller saknad data. Även här behöver man ange vilken axel, dvs om Pandas ska ta bort rader eller kolumner med null-värden."
   ]
  },
  {
   "cell_type": "code",
   "execution_count": 61,
   "metadata": {
    "collapsed": false
   },
   "outputs": [
    {
     "data": {
      "text/html": [
       "<div>\n",
       "<table border=\"1\" class=\"dataframe\">\n",
       "  <thead>\n",
       "    <tr style=\"text-align: right;\">\n",
       "      <th></th>\n",
       "      <th>stad</th>\n",
       "      <th>lan</th>\n",
       "      <th>inv_ort</th>\n",
       "      <th>inv_kommun</th>\n",
       "    </tr>\n",
       "  </thead>\n",
       "  <tbody>\n",
       "    <tr>\n",
       "      <th>0</th>\n",
       "      <td>Stockholm</td>\n",
       "      <td>Stockholms län</td>\n",
       "      <td>1372565.0</td>\n",
       "      <td>923516.0</td>\n",
       "    </tr>\n",
       "    <tr>\n",
       "      <th>1</th>\n",
       "      <td>Göteborg</td>\n",
       "      <td>Västra Götalands län</td>\n",
       "      <td>549839.0</td>\n",
       "      <td>548190.0</td>\n",
       "    </tr>\n",
       "    <tr>\n",
       "      <th>3</th>\n",
       "      <td>Uppsala</td>\n",
       "      <td>Uppsala län</td>\n",
       "      <td>140454.0</td>\n",
       "      <td>210126.0</td>\n",
       "    </tr>\n",
       "    <tr>\n",
       "      <th>4</th>\n",
       "      <td>Västerås</td>\n",
       "      <td>Västmanlands län</td>\n",
       "      <td>110877.0</td>\n",
       "      <td>145218.0</td>\n",
       "    </tr>\n",
       "    <tr>\n",
       "      <th>5</th>\n",
       "      <td>Örebro</td>\n",
       "      <td>Örebro län</td>\n",
       "      <td>107038.0</td>\n",
       "      <td>144200.0</td>\n",
       "    </tr>\n",
       "    <tr>\n",
       "      <th>6</th>\n",
       "      <td>Linköping</td>\n",
       "      <td>Östergötlands län</td>\n",
       "      <td>104232.0</td>\n",
       "      <td>152966.0</td>\n",
       "    </tr>\n",
       "    <tr>\n",
       "      <th>7</th>\n",
       "      <td>Helsingborg</td>\n",
       "      <td>Skåne län</td>\n",
       "      <td>97122.0</td>\n",
       "      <td>137909.0</td>\n",
       "    </tr>\n",
       "    <tr>\n",
       "      <th>9</th>\n",
       "      <td>Norrköping</td>\n",
       "      <td>Östergötlands län</td>\n",
       "      <td>87247.0</td>\n",
       "      <td>137035.0</td>\n",
       "    </tr>\n",
       "    <tr>\n",
       "      <th>10</th>\n",
       "      <td>Lund</td>\n",
       "      <td>Skåne län</td>\n",
       "      <td>82800.0</td>\n",
       "      <td>116834.0</td>\n",
       "    </tr>\n",
       "    <tr>\n",
       "      <th>11</th>\n",
       "      <td>Umeå</td>\n",
       "      <td>Västerbottens län</td>\n",
       "      <td>79594.0</td>\n",
       "      <td>120777.0</td>\n",
       "    </tr>\n",
       "    <tr>\n",
       "      <th>12</th>\n",
       "      <td>Gävle</td>\n",
       "      <td>Gävleborgs län</td>\n",
       "      <td>71033.0</td>\n",
       "      <td>98877.0</td>\n",
       "    </tr>\n",
       "    <tr>\n",
       "      <th>13</th>\n",
       "      <td>Borås</td>\n",
       "      <td>Västra Götalands län</td>\n",
       "      <td>66273.0</td>\n",
       "      <td>108488.0</td>\n",
       "    </tr>\n",
       "    <tr>\n",
       "      <th>14</th>\n",
       "      <td>Eskilstuna</td>\n",
       "      <td>Södermanlands län</td>\n",
       "      <td>64679.0</td>\n",
       "      <td>102065.0</td>\n",
       "    </tr>\n",
       "    <tr>\n",
       "      <th>15</th>\n",
       "      <td>Södertälje</td>\n",
       "      <td>Stockholms län</td>\n",
       "      <td>64619.0</td>\n",
       "      <td>93202.0</td>\n",
       "    </tr>\n",
       "    <tr>\n",
       "      <th>16</th>\n",
       "      <td>Karlstad</td>\n",
       "      <td>Värmlands län</td>\n",
       "      <td>61685.0</td>\n",
       "      <td>89245.0</td>\n",
       "    </tr>\n",
       "    <tr>\n",
       "      <th>17</th>\n",
       "      <td>Täby</td>\n",
       "      <td>Stockholms län</td>\n",
       "      <td>61272.0</td>\n",
       "      <td>68281.0</td>\n",
       "    </tr>\n",
       "    <tr>\n",
       "      <th>18</th>\n",
       "      <td>Växjö</td>\n",
       "      <td>Kronobergs län</td>\n",
       "      <td>60887.0</td>\n",
       "      <td>88108.0</td>\n",
       "    </tr>\n",
       "    <tr>\n",
       "      <th>19</th>\n",
       "      <td>Halmstad</td>\n",
       "      <td>Hallands län</td>\n",
       "      <td>58577.0</td>\n",
       "      <td>96952.0</td>\n",
       "    </tr>\n",
       "  </tbody>\n",
       "</table>\n",
       "</div>"
      ],
      "text/plain": [
       "           stad                   lan    inv_ort  inv_kommun\n",
       "0     Stockholm        Stockholms län  1372565.0    923516.0\n",
       "1      Göteborg  Västra Götalands län   549839.0    548190.0\n",
       "3       Uppsala           Uppsala län   140454.0    210126.0\n",
       "4      Västerås      Västmanlands län   110877.0    145218.0\n",
       "5        Örebro            Örebro län   107038.0    144200.0\n",
       "6     Linköping     Östergötlands län   104232.0    152966.0\n",
       "7   Helsingborg             Skåne län    97122.0    137909.0\n",
       "9    Norrköping     Östergötlands län    87247.0    137035.0\n",
       "10         Lund             Skåne län    82800.0    116834.0\n",
       "11         Umeå     Västerbottens län    79594.0    120777.0\n",
       "12        Gävle        Gävleborgs län    71033.0     98877.0\n",
       "13        Borås  Västra Götalands län    66273.0    108488.0\n",
       "14   Eskilstuna     Södermanlands län    64679.0    102065.0\n",
       "15   Södertälje        Stockholms län    64619.0     93202.0\n",
       "16     Karlstad         Värmlands län    61685.0     89245.0\n",
       "17         Täby        Stockholms län    61272.0     68281.0\n",
       "18        Växjö        Kronobergs län    60887.0     88108.0\n",
       "19     Halmstad          Hallands län    58577.0     96952.0"
      ]
     },
     "execution_count": 61,
     "metadata": {},
     "output_type": "execute_result"
    }
   ],
   "source": [
    "null_df.dropna(axis=0, how='any')"
   ]
  },
  {
   "cell_type": "code",
   "execution_count": 62,
   "metadata": {
    "collapsed": false
   },
   "outputs": [
    {
     "data": {
      "text/html": [
       "<div>\n",
       "<table border=\"1\" class=\"dataframe\">\n",
       "  <thead>\n",
       "    <tr style=\"text-align: right;\">\n",
       "      <th></th>\n",
       "      <th>stad</th>\n",
       "      <th>lan</th>\n",
       "    </tr>\n",
       "  </thead>\n",
       "  <tbody>\n",
       "    <tr>\n",
       "      <th>0</th>\n",
       "      <td>Stockholm</td>\n",
       "      <td>Stockholms län</td>\n",
       "    </tr>\n",
       "    <tr>\n",
       "      <th>1</th>\n",
       "      <td>Göteborg</td>\n",
       "      <td>Västra Götalands län</td>\n",
       "    </tr>\n",
       "    <tr>\n",
       "      <th>2</th>\n",
       "      <td>Malmö</td>\n",
       "      <td>Skåne län</td>\n",
       "    </tr>\n",
       "    <tr>\n",
       "      <th>3</th>\n",
       "      <td>Uppsala</td>\n",
       "      <td>Uppsala län</td>\n",
       "    </tr>\n",
       "    <tr>\n",
       "      <th>4</th>\n",
       "      <td>Västerås</td>\n",
       "      <td>Västmanlands län</td>\n",
       "    </tr>\n",
       "    <tr>\n",
       "      <th>5</th>\n",
       "      <td>Örebro</td>\n",
       "      <td>Örebro län</td>\n",
       "    </tr>\n",
       "    <tr>\n",
       "      <th>6</th>\n",
       "      <td>Linköping</td>\n",
       "      <td>Östergötlands län</td>\n",
       "    </tr>\n",
       "    <tr>\n",
       "      <th>7</th>\n",
       "      <td>Helsingborg</td>\n",
       "      <td>Skåne län</td>\n",
       "    </tr>\n",
       "    <tr>\n",
       "      <th>8</th>\n",
       "      <td>Jönköping</td>\n",
       "      <td>Jönköpings län</td>\n",
       "    </tr>\n",
       "    <tr>\n",
       "      <th>9</th>\n",
       "      <td>Norrköping</td>\n",
       "      <td>Östergötlands län</td>\n",
       "    </tr>\n",
       "    <tr>\n",
       "      <th>10</th>\n",
       "      <td>Lund</td>\n",
       "      <td>Skåne län</td>\n",
       "    </tr>\n",
       "    <tr>\n",
       "      <th>11</th>\n",
       "      <td>Umeå</td>\n",
       "      <td>Västerbottens län</td>\n",
       "    </tr>\n",
       "    <tr>\n",
       "      <th>12</th>\n",
       "      <td>Gävle</td>\n",
       "      <td>Gävleborgs län</td>\n",
       "    </tr>\n",
       "    <tr>\n",
       "      <th>13</th>\n",
       "      <td>Borås</td>\n",
       "      <td>Västra Götalands län</td>\n",
       "    </tr>\n",
       "    <tr>\n",
       "      <th>14</th>\n",
       "      <td>Eskilstuna</td>\n",
       "      <td>Södermanlands län</td>\n",
       "    </tr>\n",
       "    <tr>\n",
       "      <th>15</th>\n",
       "      <td>Södertälje</td>\n",
       "      <td>Stockholms län</td>\n",
       "    </tr>\n",
       "    <tr>\n",
       "      <th>16</th>\n",
       "      <td>Karlstad</td>\n",
       "      <td>Värmlands län</td>\n",
       "    </tr>\n",
       "    <tr>\n",
       "      <th>17</th>\n",
       "      <td>Täby</td>\n",
       "      <td>Stockholms län</td>\n",
       "    </tr>\n",
       "    <tr>\n",
       "      <th>18</th>\n",
       "      <td>Växjö</td>\n",
       "      <td>Kronobergs län</td>\n",
       "    </tr>\n",
       "    <tr>\n",
       "      <th>19</th>\n",
       "      <td>Halmstad</td>\n",
       "      <td>Hallands län</td>\n",
       "    </tr>\n",
       "  </tbody>\n",
       "</table>\n",
       "</div>"
      ],
      "text/plain": [
       "           stad                   lan\n",
       "0     Stockholm        Stockholms län\n",
       "1      Göteborg  Västra Götalands län\n",
       "2         Malmö             Skåne län\n",
       "3       Uppsala           Uppsala län\n",
       "4      Västerås      Västmanlands län\n",
       "5        Örebro            Örebro län\n",
       "6     Linköping     Östergötlands län\n",
       "7   Helsingborg             Skåne län\n",
       "8     Jönköping        Jönköpings län\n",
       "9    Norrköping     Östergötlands län\n",
       "10         Lund             Skåne län\n",
       "11         Umeå     Västerbottens län\n",
       "12        Gävle        Gävleborgs län\n",
       "13        Borås  Västra Götalands län\n",
       "14   Eskilstuna     Södermanlands län\n",
       "15   Södertälje        Stockholms län\n",
       "16     Karlstad         Värmlands län\n",
       "17         Täby        Stockholms län\n",
       "18        Växjö        Kronobergs län\n",
       "19     Halmstad          Hallands län"
      ]
     },
     "execution_count": 62,
     "metadata": {},
     "output_type": "execute_result"
    }
   ],
   "source": [
    "null_df.dropna(axis=1, how='any')"
   ]
  },
  {
   "cell_type": "markdown",
   "metadata": {},
   "source": [
    "Om man inte vill ta bort null-värden och tappa data kan man enkelt fylla i andra värden med funktionen `.fillna()`. Funktionen är mycket kraftfull och kan även hantera tidsserier genom att fylla i det senast observerade värdet mm. \n",
    "\n",
    "För att sätta alla null till exempelvis 0 är det enkelt."
   ]
  },
  {
   "cell_type": "code",
   "execution_count": 63,
   "metadata": {
    "collapsed": false
   },
   "outputs": [
    {
     "data": {
      "text/html": [
       "<div>\n",
       "<table border=\"1\" class=\"dataframe\">\n",
       "  <thead>\n",
       "    <tr style=\"text-align: right;\">\n",
       "      <th></th>\n",
       "      <th>stad</th>\n",
       "      <th>lan</th>\n",
       "      <th>inv_ort</th>\n",
       "      <th>inv_kommun</th>\n",
       "    </tr>\n",
       "  </thead>\n",
       "  <tbody>\n",
       "    <tr>\n",
       "      <th>0</th>\n",
       "      <td>Stockholm</td>\n",
       "      <td>Stockholms län</td>\n",
       "      <td>1372565.0</td>\n",
       "      <td>923516.0</td>\n",
       "    </tr>\n",
       "    <tr>\n",
       "      <th>1</th>\n",
       "      <td>Göteborg</td>\n",
       "      <td>Västra Götalands län</td>\n",
       "      <td>549839.0</td>\n",
       "      <td>548190.0</td>\n",
       "    </tr>\n",
       "    <tr>\n",
       "      <th>2</th>\n",
       "      <td>Malmö</td>\n",
       "      <td>Skåne län</td>\n",
       "      <td>0.0</td>\n",
       "      <td>322574.0</td>\n",
       "    </tr>\n",
       "    <tr>\n",
       "      <th>3</th>\n",
       "      <td>Uppsala</td>\n",
       "      <td>Uppsala län</td>\n",
       "      <td>140454.0</td>\n",
       "      <td>210126.0</td>\n",
       "    </tr>\n",
       "    <tr>\n",
       "      <th>4</th>\n",
       "      <td>Västerås</td>\n",
       "      <td>Västmanlands län</td>\n",
       "      <td>110877.0</td>\n",
       "      <td>145218.0</td>\n",
       "    </tr>\n",
       "    <tr>\n",
       "      <th>5</th>\n",
       "      <td>Örebro</td>\n",
       "      <td>Örebro län</td>\n",
       "      <td>107038.0</td>\n",
       "      <td>144200.0</td>\n",
       "    </tr>\n",
       "    <tr>\n",
       "      <th>6</th>\n",
       "      <td>Linköping</td>\n",
       "      <td>Östergötlands län</td>\n",
       "      <td>104232.0</td>\n",
       "      <td>152966.0</td>\n",
       "    </tr>\n",
       "    <tr>\n",
       "      <th>7</th>\n",
       "      <td>Helsingborg</td>\n",
       "      <td>Skåne län</td>\n",
       "      <td>97122.0</td>\n",
       "      <td>137909.0</td>\n",
       "    </tr>\n",
       "    <tr>\n",
       "      <th>8</th>\n",
       "      <td>Jönköping</td>\n",
       "      <td>Jönköpings län</td>\n",
       "      <td>89396.0</td>\n",
       "      <td>0.0</td>\n",
       "    </tr>\n",
       "    <tr>\n",
       "      <th>9</th>\n",
       "      <td>Norrköping</td>\n",
       "      <td>Östergötlands län</td>\n",
       "      <td>87247.0</td>\n",
       "      <td>137035.0</td>\n",
       "    </tr>\n",
       "    <tr>\n",
       "      <th>10</th>\n",
       "      <td>Lund</td>\n",
       "      <td>Skåne län</td>\n",
       "      <td>82800.0</td>\n",
       "      <td>116834.0</td>\n",
       "    </tr>\n",
       "    <tr>\n",
       "      <th>11</th>\n",
       "      <td>Umeå</td>\n",
       "      <td>Västerbottens län</td>\n",
       "      <td>79594.0</td>\n",
       "      <td>120777.0</td>\n",
       "    </tr>\n",
       "    <tr>\n",
       "      <th>12</th>\n",
       "      <td>Gävle</td>\n",
       "      <td>Gävleborgs län</td>\n",
       "      <td>71033.0</td>\n",
       "      <td>98877.0</td>\n",
       "    </tr>\n",
       "    <tr>\n",
       "      <th>13</th>\n",
       "      <td>Borås</td>\n",
       "      <td>Västra Götalands län</td>\n",
       "      <td>66273.0</td>\n",
       "      <td>108488.0</td>\n",
       "    </tr>\n",
       "    <tr>\n",
       "      <th>14</th>\n",
       "      <td>Eskilstuna</td>\n",
       "      <td>Södermanlands län</td>\n",
       "      <td>64679.0</td>\n",
       "      <td>102065.0</td>\n",
       "    </tr>\n",
       "    <tr>\n",
       "      <th>15</th>\n",
       "      <td>Södertälje</td>\n",
       "      <td>Stockholms län</td>\n",
       "      <td>64619.0</td>\n",
       "      <td>93202.0</td>\n",
       "    </tr>\n",
       "    <tr>\n",
       "      <th>16</th>\n",
       "      <td>Karlstad</td>\n",
       "      <td>Värmlands län</td>\n",
       "      <td>61685.0</td>\n",
       "      <td>89245.0</td>\n",
       "    </tr>\n",
       "    <tr>\n",
       "      <th>17</th>\n",
       "      <td>Täby</td>\n",
       "      <td>Stockholms län</td>\n",
       "      <td>61272.0</td>\n",
       "      <td>68281.0</td>\n",
       "    </tr>\n",
       "    <tr>\n",
       "      <th>18</th>\n",
       "      <td>Växjö</td>\n",
       "      <td>Kronobergs län</td>\n",
       "      <td>60887.0</td>\n",
       "      <td>88108.0</td>\n",
       "    </tr>\n",
       "    <tr>\n",
       "      <th>19</th>\n",
       "      <td>Halmstad</td>\n",
       "      <td>Hallands län</td>\n",
       "      <td>58577.0</td>\n",
       "      <td>96952.0</td>\n",
       "    </tr>\n",
       "  </tbody>\n",
       "</table>\n",
       "</div>"
      ],
      "text/plain": [
       "           stad                   lan    inv_ort  inv_kommun\n",
       "0     Stockholm        Stockholms län  1372565.0    923516.0\n",
       "1      Göteborg  Västra Götalands län   549839.0    548190.0\n",
       "2         Malmö             Skåne län        0.0    322574.0\n",
       "3       Uppsala           Uppsala län   140454.0    210126.0\n",
       "4      Västerås      Västmanlands län   110877.0    145218.0\n",
       "5        Örebro            Örebro län   107038.0    144200.0\n",
       "6     Linköping     Östergötlands län   104232.0    152966.0\n",
       "7   Helsingborg             Skåne län    97122.0    137909.0\n",
       "8     Jönköping        Jönköpings län    89396.0         0.0\n",
       "9    Norrköping     Östergötlands län    87247.0    137035.0\n",
       "10         Lund             Skåne län    82800.0    116834.0\n",
       "11         Umeå     Västerbottens län    79594.0    120777.0\n",
       "12        Gävle        Gävleborgs län    71033.0     98877.0\n",
       "13        Borås  Västra Götalands län    66273.0    108488.0\n",
       "14   Eskilstuna     Södermanlands län    64679.0    102065.0\n",
       "15   Södertälje        Stockholms län    64619.0     93202.0\n",
       "16     Karlstad         Värmlands län    61685.0     89245.0\n",
       "17         Täby        Stockholms län    61272.0     68281.0\n",
       "18        Växjö        Kronobergs län    60887.0     88108.0\n",
       "19     Halmstad          Hallands län    58577.0     96952.0"
      ]
     },
     "execution_count": 63,
     "metadata": {},
     "output_type": "execute_result"
    }
   ],
   "source": [
    "null_df.fillna(0)"
   ]
  },
  {
   "cell_type": "markdown",
   "metadata": {},
   "source": [
    "Det går även att ange separata värden för varje kolumn så här."
   ]
  },
  {
   "cell_type": "code",
   "execution_count": 64,
   "metadata": {
    "collapsed": false
   },
   "outputs": [
    {
     "data": {
      "text/html": [
       "<div>\n",
       "<table border=\"1\" class=\"dataframe\">\n",
       "  <thead>\n",
       "    <tr style=\"text-align: right;\">\n",
       "      <th></th>\n",
       "      <th>stad</th>\n",
       "      <th>lan</th>\n",
       "      <th>inv_ort</th>\n",
       "      <th>inv_kommun</th>\n",
       "    </tr>\n",
       "  </thead>\n",
       "  <tbody>\n",
       "    <tr>\n",
       "      <th>0</th>\n",
       "      <td>Stockholm</td>\n",
       "      <td>Stockholms län</td>\n",
       "      <td>1372565.0</td>\n",
       "      <td>923516.0</td>\n",
       "    </tr>\n",
       "    <tr>\n",
       "      <th>1</th>\n",
       "      <td>Göteborg</td>\n",
       "      <td>Västra Götalands län</td>\n",
       "      <td>549839.0</td>\n",
       "      <td>548190.0</td>\n",
       "    </tr>\n",
       "    <tr>\n",
       "      <th>2</th>\n",
       "      <td>Malmö</td>\n",
       "      <td>Skåne län</td>\n",
       "      <td>0.0</td>\n",
       "      <td>322574.0</td>\n",
       "    </tr>\n",
       "    <tr>\n",
       "      <th>3</th>\n",
       "      <td>Uppsala</td>\n",
       "      <td>Uppsala län</td>\n",
       "      <td>140454.0</td>\n",
       "      <td>210126.0</td>\n",
       "    </tr>\n",
       "    <tr>\n",
       "      <th>4</th>\n",
       "      <td>Västerås</td>\n",
       "      <td>Västmanlands län</td>\n",
       "      <td>110877.0</td>\n",
       "      <td>145218.0</td>\n",
       "    </tr>\n",
       "    <tr>\n",
       "      <th>5</th>\n",
       "      <td>Örebro</td>\n",
       "      <td>Örebro län</td>\n",
       "      <td>107038.0</td>\n",
       "      <td>144200.0</td>\n",
       "    </tr>\n",
       "    <tr>\n",
       "      <th>6</th>\n",
       "      <td>Linköping</td>\n",
       "      <td>Östergötlands län</td>\n",
       "      <td>104232.0</td>\n",
       "      <td>152966.0</td>\n",
       "    </tr>\n",
       "    <tr>\n",
       "      <th>7</th>\n",
       "      <td>Helsingborg</td>\n",
       "      <td>Skåne län</td>\n",
       "      <td>97122.0</td>\n",
       "      <td>137909.0</td>\n",
       "    </tr>\n",
       "    <tr>\n",
       "      <th>8</th>\n",
       "      <td>Jönköping</td>\n",
       "      <td>Jönköpings län</td>\n",
       "      <td>89396.0</td>\n",
       "      <td>1.0</td>\n",
       "    </tr>\n",
       "    <tr>\n",
       "      <th>9</th>\n",
       "      <td>Norrköping</td>\n",
       "      <td>Östergötlands län</td>\n",
       "      <td>87247.0</td>\n",
       "      <td>137035.0</td>\n",
       "    </tr>\n",
       "    <tr>\n",
       "      <th>10</th>\n",
       "      <td>Lund</td>\n",
       "      <td>Skåne län</td>\n",
       "      <td>82800.0</td>\n",
       "      <td>116834.0</td>\n",
       "    </tr>\n",
       "    <tr>\n",
       "      <th>11</th>\n",
       "      <td>Umeå</td>\n",
       "      <td>Västerbottens län</td>\n",
       "      <td>79594.0</td>\n",
       "      <td>120777.0</td>\n",
       "    </tr>\n",
       "    <tr>\n",
       "      <th>12</th>\n",
       "      <td>Gävle</td>\n",
       "      <td>Gävleborgs län</td>\n",
       "      <td>71033.0</td>\n",
       "      <td>98877.0</td>\n",
       "    </tr>\n",
       "    <tr>\n",
       "      <th>13</th>\n",
       "      <td>Borås</td>\n",
       "      <td>Västra Götalands län</td>\n",
       "      <td>66273.0</td>\n",
       "      <td>108488.0</td>\n",
       "    </tr>\n",
       "    <tr>\n",
       "      <th>14</th>\n",
       "      <td>Eskilstuna</td>\n",
       "      <td>Södermanlands län</td>\n",
       "      <td>64679.0</td>\n",
       "      <td>102065.0</td>\n",
       "    </tr>\n",
       "    <tr>\n",
       "      <th>15</th>\n",
       "      <td>Södertälje</td>\n",
       "      <td>Stockholms län</td>\n",
       "      <td>64619.0</td>\n",
       "      <td>93202.0</td>\n",
       "    </tr>\n",
       "    <tr>\n",
       "      <th>16</th>\n",
       "      <td>Karlstad</td>\n",
       "      <td>Värmlands län</td>\n",
       "      <td>61685.0</td>\n",
       "      <td>89245.0</td>\n",
       "    </tr>\n",
       "    <tr>\n",
       "      <th>17</th>\n",
       "      <td>Täby</td>\n",
       "      <td>Stockholms län</td>\n",
       "      <td>61272.0</td>\n",
       "      <td>68281.0</td>\n",
       "    </tr>\n",
       "    <tr>\n",
       "      <th>18</th>\n",
       "      <td>Växjö</td>\n",
       "      <td>Kronobergs län</td>\n",
       "      <td>60887.0</td>\n",
       "      <td>88108.0</td>\n",
       "    </tr>\n",
       "    <tr>\n",
       "      <th>19</th>\n",
       "      <td>Halmstad</td>\n",
       "      <td>Hallands län</td>\n",
       "      <td>58577.0</td>\n",
       "      <td>96952.0</td>\n",
       "    </tr>\n",
       "  </tbody>\n",
       "</table>\n",
       "</div>"
      ],
      "text/plain": [
       "           stad                   lan    inv_ort  inv_kommun\n",
       "0     Stockholm        Stockholms län  1372565.0    923516.0\n",
       "1      Göteborg  Västra Götalands län   549839.0    548190.0\n",
       "2         Malmö             Skåne län        0.0    322574.0\n",
       "3       Uppsala           Uppsala län   140454.0    210126.0\n",
       "4      Västerås      Västmanlands län   110877.0    145218.0\n",
       "5        Örebro            Örebro län   107038.0    144200.0\n",
       "6     Linköping     Östergötlands län   104232.0    152966.0\n",
       "7   Helsingborg             Skåne län    97122.0    137909.0\n",
       "8     Jönköping        Jönköpings län    89396.0         1.0\n",
       "9    Norrköping     Östergötlands län    87247.0    137035.0\n",
       "10         Lund             Skåne län    82800.0    116834.0\n",
       "11         Umeå     Västerbottens län    79594.0    120777.0\n",
       "12        Gävle        Gävleborgs län    71033.0     98877.0\n",
       "13        Borås  Västra Götalands län    66273.0    108488.0\n",
       "14   Eskilstuna     Södermanlands län    64679.0    102065.0\n",
       "15   Södertälje        Stockholms län    64619.0     93202.0\n",
       "16     Karlstad         Värmlands län    61685.0     89245.0\n",
       "17         Täby        Stockholms län    61272.0     68281.0\n",
       "18        Växjö        Kronobergs län    60887.0     88108.0\n",
       "19     Halmstad          Hallands län    58577.0     96952.0"
      ]
     },
     "execution_count": 64,
     "metadata": {},
     "output_type": "execute_result"
    }
   ],
   "source": [
    "values_to_fill = {'inv_ort' : 0, 'inv_kommun' : 1}\n",
    "\n",
    "null_df.fillna(values_to_fill)"
   ]
  },
  {
   "cell_type": "markdown",
   "metadata": {},
   "source": [
    "I det här fallet är det inte så rimligt att fylla med 0, det skulle antagligen vara mer rimligt att fylla med medelvärdet av övriga observationer."
   ]
  },
  {
   "cell_type": "code",
   "execution_count": 65,
   "metadata": {
    "collapsed": false
   },
   "outputs": [
    {
     "data": {
      "text/plain": [
       "0     1.372565e+06\n",
       "1     5.498390e+05\n",
       "2     1.752731e+05\n",
       "3     1.404540e+05\n",
       "4     1.108770e+05\n",
       "5     1.070380e+05\n",
       "6     1.042320e+05\n",
       "7     9.712200e+04\n",
       "8     8.939600e+04\n",
       "9     8.724700e+04\n",
       "10    8.280000e+04\n",
       "11    7.959400e+04\n",
       "12    7.103300e+04\n",
       "13    6.627300e+04\n",
       "14    6.467900e+04\n",
       "15    6.461900e+04\n",
       "16    6.168500e+04\n",
       "17    6.127200e+04\n",
       "18    6.088700e+04\n",
       "19    5.857700e+04\n",
       "Name: inv_ort, dtype: float64"
      ]
     },
     "execution_count": 65,
     "metadata": {},
     "output_type": "execute_result"
    }
   ],
   "source": [
    "x = null_df['inv_ort']\n",
    "\n",
    "x.fillna(x.mean())"
   ]
  },
  {
   "cell_type": "markdown",
   "metadata": {},
   "source": [
    "För att skapa en slutlig version som inte innehåller några null-värden kan man deklarera om kolumnerna man arbetat med och se att det ser bra ut."
   ]
  },
  {
   "cell_type": "code",
   "execution_count": 66,
   "metadata": {
    "collapsed": false
   },
   "outputs": [
    {
     "data": {
      "text/html": [
       "<div>\n",
       "<table border=\"1\" class=\"dataframe\">\n",
       "  <thead>\n",
       "    <tr style=\"text-align: right;\">\n",
       "      <th></th>\n",
       "      <th>stad</th>\n",
       "      <th>lan</th>\n",
       "      <th>inv_ort</th>\n",
       "      <th>inv_kommun</th>\n",
       "    </tr>\n",
       "  </thead>\n",
       "  <tbody>\n",
       "    <tr>\n",
       "      <th>0</th>\n",
       "      <td>Stockholm</td>\n",
       "      <td>Stockholms län</td>\n",
       "      <td>1.372565e+06</td>\n",
       "      <td>923516.0</td>\n",
       "    </tr>\n",
       "    <tr>\n",
       "      <th>1</th>\n",
       "      <td>Göteborg</td>\n",
       "      <td>Västra Götalands län</td>\n",
       "      <td>5.498390e+05</td>\n",
       "      <td>548190.0</td>\n",
       "    </tr>\n",
       "    <tr>\n",
       "      <th>2</th>\n",
       "      <td>Malmö</td>\n",
       "      <td>Skåne län</td>\n",
       "      <td>1.752731e+05</td>\n",
       "      <td>322574.0</td>\n",
       "    </tr>\n",
       "    <tr>\n",
       "      <th>3</th>\n",
       "      <td>Uppsala</td>\n",
       "      <td>Uppsala län</td>\n",
       "      <td>1.404540e+05</td>\n",
       "      <td>210126.0</td>\n",
       "    </tr>\n",
       "    <tr>\n",
       "      <th>4</th>\n",
       "      <td>Västerås</td>\n",
       "      <td>Västmanlands län</td>\n",
       "      <td>1.108770e+05</td>\n",
       "      <td>145218.0</td>\n",
       "    </tr>\n",
       "  </tbody>\n",
       "</table>\n",
       "</div>"
      ],
      "text/plain": [
       "        stad                   lan       inv_ort  inv_kommun\n",
       "0  Stockholm        Stockholms län  1.372565e+06    923516.0\n",
       "1   Göteborg  Västra Götalands län  5.498390e+05    548190.0\n",
       "2      Malmö             Skåne län  1.752731e+05    322574.0\n",
       "3    Uppsala           Uppsala län  1.404540e+05    210126.0\n",
       "4   Västerås      Västmanlands län  1.108770e+05    145218.0"
      ]
     },
     "execution_count": 66,
     "metadata": {},
     "output_type": "execute_result"
    }
   ],
   "source": [
    "inv_ort = null_df['inv_ort']\n",
    "inv_kommun = null_df['inv_kommun']\n",
    "\n",
    "null_df['inv_ort'] = inv_ort.fillna(inv_ort.mean())\n",
    "null_df['inv_kommun'] = inv_kommun.fillna(inv_kommun.mean())\n",
    "\n",
    "null_df.head()"
   ]
  }
 ],
 "metadata": {
  "anaconda-cloud": {},
  "kernelspec": {
   "display_name": "Python [conda root]",
   "language": "python",
   "name": "conda-root-py"
  },
  "language_info": {
   "codemirror_mode": {
    "name": "ipython",
    "version": 3
   },
   "file_extension": ".py",
   "mimetype": "text/x-python",
   "name": "python",
   "nbconvert_exporter": "python",
   "pygments_lexer": "ipython3",
   "version": "3.5.2"
  }
 },
 "nbformat": 4,
 "nbformat_minor": 0
}
